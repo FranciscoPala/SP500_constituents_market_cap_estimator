{
 "cells": [
  {
   "cell_type": "code",
   "execution_count": 36,
   "metadata": {},
   "outputs": [],
   "source": [
    "import numpy as np\n",
    "import pandas as pd\n",
    "import xgboost\n",
    "import pickle\n",
    "from sklearn.preprocessing import FunctionTransformer, PowerTransformer\n",
    "from sklearn.model_selection import train_test_split\n",
    "from sklearn.metrics import mean_squared_error\n",
    "from sklearn.pipeline import make_pipeline\n",
    "from sklearn.decomposition import PCA\n",
    "\n",
    "pd.options.display.max_rows = 200\n",
    "pd.options.display.max_columns = 200\n",
    "pd.set_option('display.float_format', lambda x: '%.5f' % x)"
   ]
  },
  {
   "cell_type": "code",
   "execution_count": 12,
   "metadata": {},
   "outputs": [],
   "source": [
    "def clip_series(s, lower, upper):\n",
    "   clipped = s.clip(lower=s.quantile(lower), upper=s.quantile(upper), axis=0)\n",
    "   return clipped"
   ]
  },
  {
   "cell_type": "code",
   "execution_count": 13,
   "metadata": {},
   "outputs": [],
   "source": [
    "def generate_features(data):\n",
    "    features = pd.DataFrame()\n",
    "    # ratios from https://corporatefinanceinstitute.com/resources/knowledge/finance/financial-ratios/\n",
    "    # LIQUIDITY RATIOS\n",
    "    # current ratio\n",
    "    # a company’s ability to pay off short-term liabilities with current assets\n",
    "    features['currentRatio'] = data.totalCurrentAssets / data.totalCurrentLiabilities\n",
    "    # acid-test ratio\n",
    "    # a company’s ability to pay off short-term liabilities with quick assets\n",
    "    features['acidTestRatio'] = (data.totalCurrentAssets - data.inventory)/data.totalCurrentLiabilities\n",
    "    # cash ratio\n",
    "    # a company’s ability to pay off short-term liabilities\n",
    "    features['cashRatio'] = data.cashAndCashEquivalents / data.totalCurrentLiabilities\n",
    "    # operating cash flow ratio\n",
    "    # number of times a company can pay off current liabilities with the cash generated in a given period\n",
    "    features['operatingCashFlowRatio'] = data.operatingCashFlow / data.totalCurrentLiabilities\n",
    "    # LEVERAGE FINANCIAL RATIOS\n",
    "    # debt ratio\n",
    "    # relative amount of a company’s assets that are provided from debt\n",
    "    features['debtRatio'] = data.totalLiabilities / data.totalAssets\n",
    "    # debt to equity ratio\n",
    "    # weight of total debt and financial liabilities against shareholders equity\n",
    "    features['debtToEquityRatio'] = data.totalLiabilities / data.totalStockholdersEquity\n",
    "    # interest coverage ratio\n",
    "    # how easily a company can pay its interest expenses\n",
    "    features['interestCoverageRatio'] = data.operatingIncome / data.interestExpense\n",
    "    # debt service coverage ratio\n",
    "    #  how easily a company can pay its debt obligations\n",
    "    features['debtServiceCoverageRatio'] = data.operatingIncome/data.debtRepayment\n",
    "    # EFFICIENCY RATIOS\n",
    "    # asset turnover ratio\n",
    "    # a company’s ability to generate sales from assets\n",
    "    avg_total_assets = data.groupby('symbol').totalAssets.rolling(2).mean().reset_index(0,drop=True)\n",
    "    features['assetTurnoverRatio'] = data.revenue / avg_total_assets\n",
    "    # inventory turnover ratio\n",
    "    #  how many times a company’s inventory is sold and replaced over a given period\n",
    "    avg_inventory = data.groupby('symbol').inventory.rolling(2).mean().reset_index(0,drop=True)\n",
    "    features['inventoryTurnoverRatio'] = data.costOfRevenue/avg_inventory\n",
    "    # daysales in inventory ratio\n",
    "    # average number of days that a company holds on to inventory before selling it to customers\n",
    "    features['daysSalesInventoryRatio'] = 365/features['inventoryTurnoverRatio']\n",
    "    # PROFITABILITY\n",
    "    # Gross profit ratio\n",
    "    # how much profit a company makes after paying its cost of goods sold\n",
    "    features['grossProfitRatio'] = data.grossProfitRatio\n",
    "    # Operating Income ratio\n",
    "    # operating income of a company to its net sales to determine operating efficiency\n",
    "    features['operatingIncomeRatio'] = data.operatingIncomeRatio\n",
    "    # return on assets ratio\n",
    "    # how efficiently a company is using its assets to generate profit\n",
    "    features['returnOnAssetsRatio'] = data.netIncome/data.totalAssets\n",
    "    # return on equity ratio\n",
    "    # how efficiently a company is using its equity to generate profit\n",
    "    features['returnOnEquityRatio'] = data.netIncome / data.totalStockholdersEquity\n",
    "    # VERTICAL ANALYSIS OF INCOME\n",
    "    features['revenue'] = data.revenue\n",
    "    features['costOfRevenueRatio'] = data.costOfRevenue / data.revenue\n",
    "    features['researchAndDevelopmentExpensesRatio'] = data.researchAndDevelopmentExpenses / data.revenue\n",
    "    features['sellingGeneralAndAdministrativeExpensesRatio'] = data.sellingGeneralAndAdministrativeExpenses / data.revenue\n",
    "    features['interestExpenseRatio'] = data.interestExpense / data.revenue\n",
    "    features['incomeBeforeTaxRatio'] = data.incomeBeforeTax / data.revenue\n",
    "    features['incomeTaxExpenseRatio'] = data.incomeTaxExpense / data.revenue\n",
    "    features['netIncomeRatio'] = data.netIncome / data.revenue\n",
    "    features['netIncome'] = data.netIncome\n",
    "    # HORIZONTAL ANALYSIS of the income statement\n",
    "    features['revenue_yoy'] = data.groupby('symbol').revenue.pct_change(1)\n",
    "    features['costOfRevenue_yoy'] = data.groupby('symbol').costOfRevenue.pct_change(1)\n",
    "    features['researchAndDevelopmentExpenses_yoy'] = data.groupby('symbol').researchAndDevelopmentExpenses.pct_change(1)\n",
    "    features['sellingGeneralAndAdministrativeExpenses_yoy'] = data.groupby('symbol').sellingGeneralAndAdministrativeExpenses.pct_change(1)\n",
    "    features['interestExpense_yoy'] = data.groupby('symbol').interestExpense.pct_change(1)\n",
    "    features['incomeBeforeTax_yoy'] = data.groupby('symbol').incomeBeforeTax.pct_change(1)\n",
    "    features['incomeTaxExpense_yoy'] = data.groupby('symbol').incomeTaxExpense.pct_change(1)\n",
    "    features['netIncome_yoy'] = data.groupby('symbol').netIncome.pct_change(1)\n",
    "    # VERTICAL ANALYSIS OF CASH FLOW\n",
    "    # Cash flow from Operating Activities CFO\n",
    "    features['CFO'] = data['netCashProvidedByOperatingActivities']\n",
    "    features['depreciationAndAmortizationRatio'] = data.depreciationAndAmortization / data.netCashProvidedByOperatingActivities\n",
    "    features['stockBasedCompensationRatio'] = data.stockBasedCompensation / data.netCashProvidedByOperatingActivities\n",
    "    features['changeInWorkingCapitalRatio'] = data.changeInWorkingCapital / data.netCashProvidedByOperatingActivities\n",
    "    # Cash flow from Investing Activities CFI\n",
    "    features['CFI'] = data['netCashUsedForInvestingActivites']\n",
    "    features['capitalExpenditurePctSales'] = data.capitalExpenditure / data.revenue\n",
    "    features['capitalExpenditureRatio'] = data.capitalExpenditure / data.netCashUsedForInvestingActivites\n",
    "    # Free Cash flow\n",
    "    features['freeCashFlow'] = data['freeCashFlow']\n",
    "    features['freeCashFlowRatio'] = data.freeCashFlow / data.revenue\n",
    "    # Cash flow from Financial Activities CFF\n",
    "    features['CFF'] = data.netCashUsedProvidedByFinancingActivities\n",
    "    features['TotalSpentRepurchase'] = data.commonStockRepurchased - data.commonStockIssued\n",
    "    features['dividendsPaid'] = data['dividendsPaid']\n",
    "    features['repurchaseDividendsRatio'] = (features['TotalSpentRepurchase'] + features['dividendsPaid'])/features['freeCashFlow']\n",
    "    # HORIZONTAL ANALYSIS CASH FLOW\n",
    "    features['freeCashFlow_yoy'] =  data.groupby('symbol').freeCashFlow.pct_change(1)\n",
    "    features['capitalExpenditure_yoy'] =  data.groupby('symbol').capitalExpenditure.pct_change(1)\n",
    "    features['CFI_yoy'] = data.groupby('symbol').netCashProvidedByOperatingActivities.pct_change(1)\n",
    "    return features"
   ]
  },
  {
   "cell_type": "code",
   "execution_count": 26,
   "metadata": {},
   "outputs": [
    {
     "data": {
      "text/plain": [
       "((7168, 48), (7168,))"
      ]
     },
     "execution_count": 26,
     "metadata": {},
     "output_type": "execute_result"
    }
   ],
   "source": [
    "train = pd.read_csv('../data/processed/train.csv')\n",
    "target_train = train.target\n",
    "train = generate_features(train).replace([np.inf, -np.inf], np.nan).fillna(0)\n",
    "train.shape, target_train.shape"
   ]
  },
  {
   "cell_type": "code",
   "execution_count": 32,
   "metadata": {},
   "outputs": [
    {
     "data": {
      "text/plain": [
       "Pipeline(steps=[('powertransformer', PowerTransformer()),\n",
       "                ('xgbregressor',\n",
       "                 XGBRegressor(alpha=0.0014402765639493342, base_score=0.5,\n",
       "                              booster='gbtree', colsample_bylevel=1,\n",
       "                              colsample_bynode=1,\n",
       "                              colsample_bytree=0.8572705090242294,\n",
       "                              enable_categorical=False, eta=0.16926740470716026,\n",
       "                              gamma=15, gpu_id=-1, importance_type=None,\n",
       "                              interaction_constraints='',\n",
       "                              learning_rate=0.169267401, max_delta_step=0,\n",
       "                              max_depth=10, min_child_weight=77, missing=nan,\n",
       "                              monotone_constraints='()', n_estimators=1000,\n",
       "                              n_jobs=12, num_parallel_tree=1, predictor='auto',\n",
       "                              random_state=0, reg_alpha=0.00144027651,\n",
       "                              reg_lambda=1, scale_pos_weight=1,\n",
       "                              subsample=0.9666913889304912, tree_method='exact',\n",
       "                              validate_parameters=1, verbosity=None))])"
      ]
     },
     "execution_count": 32,
     "metadata": {},
     "output_type": "execute_result"
    }
   ],
   "source": [
    "benchmark = make_pipeline(\n",
    "    PowerTransformer(), \n",
    "    xgboost.XGBRegressor(\n",
    "        n_estimators = 1000,\n",
    "        alpha=0.0014402765639493342,\n",
    "        colsample_bytree=0.8572705090242294,\n",
    "        eta=0.16926740470716026,\n",
    "        gamma=15,\n",
    "        max_depth=10,\n",
    "        min_child_weight=77,\n",
    "        subsample=0.9666913889304912\n",
    "        ))\n",
    "benchmark.fit(train, target_train)"
   ]
  },
  {
   "cell_type": "code",
   "execution_count": 33,
   "metadata": {},
   "outputs": [
    {
     "data": {
      "text/plain": [
       "((2390, 48), (2390,))"
      ]
     },
     "execution_count": 33,
     "metadata": {},
     "output_type": "execute_result"
    }
   ],
   "source": [
    "test = pd.read_csv('../data/processed/test.csv')\n",
    "target_test = test.target\n",
    "test = generate_features(test).replace([np.inf, -np.inf], np.nan).fillna(0)\n",
    "test.shape, target_test.shape"
   ]
  },
  {
   "cell_type": "code",
   "execution_count": 35,
   "metadata": {},
   "outputs": [],
   "source": [
    "test.to_csv('./test.csv', index=False)"
   ]
  },
  {
   "cell_type": "code",
   "execution_count": 37,
   "metadata": {},
   "outputs": [],
   "source": [
    "with open('model_v0.pickle', 'wb') as f:\n",
    "    pickle.dump(benchmark, f)"
   ]
  },
  {
   "cell_type": "code",
   "execution_count": 34,
   "metadata": {},
   "outputs": [
    {
     "data": {
      "text/plain": [
       "2422.4737923926623"
      ]
     },
     "execution_count": 34,
     "metadata": {},
     "output_type": "execute_result"
    }
   ],
   "source": [
    "preds = benchmark.predict(test)\n",
    "mean_squared_error(y_true=target_test, y_pred=preds)"
   ]
  },
  {
   "cell_type": "code",
   "execution_count": null,
   "metadata": {},
   "outputs": [],
   "source": []
  },
  {
   "cell_type": "code",
   "execution_count": null,
   "metadata": {},
   "outputs": [],
   "source": []
  }
 ],
 "metadata": {
  "interpreter": {
   "hash": "1af52d91e9a17fda2c5a861893e28b9d34197fc091af0d7ff917999a49fdd885"
  },
  "kernelspec": {
   "display_name": "Python 3.8.10 64-bit",
   "language": "python",
   "name": "python3"
  },
  "language_info": {
   "codemirror_mode": {
    "name": "ipython",
    "version": 3
   },
   "file_extension": ".py",
   "mimetype": "text/x-python",
   "name": "python",
   "nbconvert_exporter": "python",
   "pygments_lexer": "ipython3",
   "version": "3.8.10"
  },
  "orig_nbformat": 4
 },
 "nbformat": 4,
 "nbformat_minor": 2
}
