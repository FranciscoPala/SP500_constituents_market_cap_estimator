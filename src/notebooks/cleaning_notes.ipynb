{
 "cells": [
  {
   "cell_type": "code",
   "execution_count": 2,
   "id": "81883de1-5183-4d3f-be1a-2c9361324b00",
   "metadata": {},
   "outputs": [],
   "source": [
    "import pandas as pd\n",
    "import numpy as np\n",
    "import datetime\n",
    "from pathlib import Path\n",
    "from myfuncs import (\n",
    "    init_companies_table,\n",
    "    \n",
    ")\n",
    "from myvars import to_billions_features"
   ]
  },
  {
   "cell_type": "code",
   "execution_count": 3,
   "id": "07525fb4",
   "metadata": {},
   "outputs": [],
   "source": [
    "pd.options.display.max_columns = 500\n",
    "pd.options.display.max_rows = 200 "
   ]
  },
  {
   "cell_type": "markdown",
   "id": "9de78e7d",
   "metadata": {},
   "source": [
    "# Create data tables"
   ]
  },
  {
   "cell_type": "markdown",
   "id": "e4731fd0",
   "metadata": {},
   "source": [
    "## Companies"
   ]
  },
  {
   "cell_type": "markdown",
   "id": "0163dade",
   "metadata": {},
   "source": [
    "- A table for all unique companies\n",
    "    - cik, symbol, name, sector, subsector, founded, etc\n",
    "- A table for all the periods a company has been on the index.\n",
    "    - cik, symbol, start date, end date, flag_current"
   ]
  },
  {
   "cell_type": "markdown",
   "id": "2b8f4bc4",
   "metadata": {},
   "source": [
    "#### Table for unique companies"
   ]
  },
  {
   "cell_type": "code",
   "execution_count": 4,
   "id": "5b89e0c1",
   "metadata": {},
   "outputs": [],
   "source": [
    "# import companies csv\n",
    "current_companies = pd.read_csv('../data/raw/companies_wiki.csv').drop(columns='SEC filings')\n",
    "current_companies.columns = ['symbol', 'name', 'sector', 'subSector', 'hQ', 'dateFirstAdded', 'cik', 'founded']\n",
    "# import wikipedia historical companies csv\n",
    "spts = pd.read_csv('../data/raw/historical_companies_TradingEvolved.csv') "
   ]
  },
  {
   "cell_type": "code",
   "execution_count": null,
   "id": "801fe6f0",
   "metadata": {},
   "outputs": [
    {
     "data": {
      "text/html": [
       "<div>\n",
       "<style scoped>\n",
       "    .dataframe tbody tr th:only-of-type {\n",
       "        vertical-align: middle;\n",
       "    }\n",
       "\n",
       "    .dataframe tbody tr th {\n",
       "        vertical-align: top;\n",
       "    }\n",
       "\n",
       "    .dataframe thead th {\n",
       "        text-align: right;\n",
       "    }\n",
       "</style>\n",
       "<table border=\"1\" class=\"dataframe\">\n",
       "  <thead>\n",
       "    <tr style=\"text-align: right;\">\n",
       "      <th></th>\n",
       "      <th>date</th>\n",
       "      <th>tickers</th>\n",
       "      <th>tickers_filtered</th>\n",
       "    </tr>\n",
       "  </thead>\n",
       "  <tbody>\n",
       "    <tr>\n",
       "      <th>0</th>\n",
       "      <td>1996-01-02</td>\n",
       "      <td>AAL,AAMRQ,AAPL,ABI,ABS,ABT,ABX,ACKH,ACV,ADM,AD...</td>\n",
       "      <td>[AAL, AAMRQ, AAPL, ABI, ABS, ABT, ABX, ACKH, A...</td>\n",
       "    </tr>\n",
       "    <tr>\n",
       "      <th>1</th>\n",
       "      <td>1996-01-03</td>\n",
       "      <td>AAL,AAMRQ,AAPL,ABI,ABS,ABT,ABX,ACKH,ACV,ADM,AD...</td>\n",
       "      <td>[AAL, AAMRQ, AAPL, ABI, ABS, ABT, ABX, ACKH, A...</td>\n",
       "    </tr>\n",
       "    <tr>\n",
       "      <th>2</th>\n",
       "      <td>1996-01-04</td>\n",
       "      <td>AAL,AAMRQ,AAPL,ABI,ABS,ABT,ABX,ACKH,ACV,ADM,AD...</td>\n",
       "      <td>[AAL, AAMRQ, AAPL, ABI, ABS, ABT, ABX, ACKH, A...</td>\n",
       "    </tr>\n",
       "    <tr>\n",
       "      <th>3</th>\n",
       "      <td>1996-01-10</td>\n",
       "      <td>AAL,AAMRQ,AAPL,ABI,ABS,ABT,ABX,ACKH,ACV,ADM,AD...</td>\n",
       "      <td>[AAL, AAMRQ, AAPL, ABI, ABS, ABT, ABX, ACKH, A...</td>\n",
       "    </tr>\n",
       "    <tr>\n",
       "      <th>4</th>\n",
       "      <td>1996-01-11</td>\n",
       "      <td>AAL,AAMRQ,AAPL,ABI,ABS,ABT,ABX,ACKH,ACV,ADM,AD...</td>\n",
       "      <td>[AAL, AAMRQ, AAPL, ABI, ABS, ABT, ABX, ACKH, A...</td>\n",
       "    </tr>\n",
       "  </tbody>\n",
       "</table>\n",
       "</div>"
      ],
      "text/plain": [
       "         date                                            tickers  \\\n",
       "0  1996-01-02  AAL,AAMRQ,AAPL,ABI,ABS,ABT,ABX,ACKH,ACV,ADM,AD...   \n",
       "1  1996-01-03  AAL,AAMRQ,AAPL,ABI,ABS,ABT,ABX,ACKH,ACV,ADM,AD...   \n",
       "2  1996-01-04  AAL,AAMRQ,AAPL,ABI,ABS,ABT,ABX,ACKH,ACV,ADM,AD...   \n",
       "3  1996-01-10  AAL,AAMRQ,AAPL,ABI,ABS,ABT,ABX,ACKH,ACV,ADM,AD...   \n",
       "4  1996-01-11  AAL,AAMRQ,AAPL,ABI,ABS,ABT,ABX,ACKH,ACV,ADM,AD...   \n",
       "\n",
       "                                    tickers_filtered  \n",
       "0  [AAL, AAMRQ, AAPL, ABI, ABS, ABT, ABX, ACKH, A...  \n",
       "1  [AAL, AAMRQ, AAPL, ABI, ABS, ABT, ABX, ACKH, A...  \n",
       "2  [AAL, AAMRQ, AAPL, ABI, ABS, ABT, ABX, ACKH, A...  \n",
       "3  [AAL, AAMRQ, AAPL, ABI, ABS, ABT, ABX, ACKH, A...  \n",
       "4  [AAL, AAMRQ, AAPL, ABI, ABS, ABT, ABX, ACKH, A...  "
      ]
     },
     "metadata": {},
     "output_type": "display_data"
    }
   ],
   "source": [
    "# get all unique occurences of anything that is in tickers\n",
    "# get the items on the list if there is no '-', if there is, get the first item (the ticker)\n",
    "spts['tickers_filtered'] = spts.tickers.str.split(',')\n",
    "spts.head()"
   ]
  },
  {
   "cell_type": "markdown",
   "id": "4ebb622b",
   "metadata": {},
   "source": [
    "Get all unique constituents"
   ]
  },
  {
   "cell_type": "code",
   "execution_count": null,
   "id": "fa69fc96",
   "metadata": {},
   "outputs": [
    {
     "data": {
      "text/plain": [
       "(1125, 1)"
      ]
     },
     "metadata": {},
     "output_type": "display_data"
    }
   ],
   "source": [
    "results = set()\n",
    "spts.tickers_filtered.apply(results.update)\n",
    "companies = pd.DataFrame(data = results, columns=['symbol'])\n",
    "companies.shape"
   ]
  },
  {
   "cell_type": "markdown",
   "id": "8d3dff01",
   "metadata": {},
   "source": [
    "Add values from current companies"
   ]
  },
  {
   "cell_type": "code",
   "execution_count": null,
   "id": "af828914",
   "metadata": {},
   "outputs": [],
   "source": [
    "current_companies['currentConstituent'] = True\n",
    "companies = companies.merge(current_companies, how='left')\n",
    "companies = companies.drop(columns=['dateFirstAdded'])\n",
    "companies.currentConstituent = companies.currentConstituent.fillna(False)"
   ]
  },
  {
   "cell_type": "code",
   "execution_count": null,
   "id": "e5d68712",
   "metadata": {},
   "outputs": [],
   "source": [
    "ciks = pd.read_csv('../data/raw/CIK.csv', index_col = 0)\n",
    "ciks.columns = ['cik_sec_list', 'symbol', 'title']"
   ]
  },
  {
   "cell_type": "code",
   "execution_count": null,
   "id": "739e101f",
   "metadata": {},
   "outputs": [],
   "source": [
    "companies = companies.merge(ciks, how='left')\n",
    "companies.name = companies.name.fillna(companies.title)\n",
    "companies.cik = companies.cik.fillna(companies.cik_sec_list)"
   ]
  },
  {
   "cell_type": "markdown",
   "id": "7c7727e0",
   "metadata": {},
   "source": [
    "#### Comment 1\n",
    "There are cases when a company is introduced or removed without a counterpart joining or leaving the index. This is fine as we'll be melting this table by generating a variable indicating whether the action was to add or remove the ticker"
   ]
  },
  {
   "cell_type": "code",
   "execution_count": 5,
   "id": "92153e0e",
   "metadata": {},
   "outputs": [
    {
     "data": {
      "text/html": [
       "<div>\n",
       "<style scoped>\n",
       "    .dataframe tbody tr th:only-of-type {\n",
       "        vertical-align: middle;\n",
       "    }\n",
       "\n",
       "    .dataframe tbody tr th {\n",
       "        vertical-align: top;\n",
       "    }\n",
       "\n",
       "    .dataframe thead th {\n",
       "        text-align: right;\n",
       "    }\n",
       "</style>\n",
       "<table border=\"1\" class=\"dataframe\">\n",
       "  <thead>\n",
       "    <tr style=\"text-align: right;\">\n",
       "      <th></th>\n",
       "      <th>Date</th>\n",
       "      <th>Added</th>\n",
       "      <th>Added.1</th>\n",
       "      <th>Removed</th>\n",
       "      <th>Removed.1</th>\n",
       "      <th>Reason</th>\n",
       "    </tr>\n",
       "  </thead>\n",
       "  <tbody>\n",
       "    <tr>\n",
       "      <th>3</th>\n",
       "      <td>February 3, 2022</td>\n",
       "      <td>NaN</td>\n",
       "      <td>NaN</td>\n",
       "      <td>GPS</td>\n",
       "      <td>Gap</td>\n",
       "      <td>Market capitalization change.[8]</td>\n",
       "    </tr>\n",
       "    <tr>\n",
       "      <th>4</th>\n",
       "      <td>February 2, 2022</td>\n",
       "      <td>CEG</td>\n",
       "      <td>Constellation Energy</td>\n",
       "      <td>NaN</td>\n",
       "      <td>NaN</td>\n",
       "      <td>S&amp;P 500 and 100 constituent Exelon Corp. spun ...</td>\n",
       "    </tr>\n",
       "    <tr>\n",
       "      <th>14</th>\n",
       "      <td>June 4, 2021</td>\n",
       "      <td>NaN</td>\n",
       "      <td>NaN</td>\n",
       "      <td>HFC</td>\n",
       "      <td>HollyFrontier</td>\n",
       "      <td>Market capitalization change.[14]</td>\n",
       "    </tr>\n",
       "    <tr>\n",
       "      <th>15</th>\n",
       "      <td>June 3, 2021</td>\n",
       "      <td>OGN</td>\n",
       "      <td>Organon &amp; Co.</td>\n",
       "      <td>NaN</td>\n",
       "      <td>NaN</td>\n",
       "      <td>S&amp;P 500/100 constituent Merck &amp; Co. spun off O...</td>\n",
       "    </tr>\n",
       "    <tr>\n",
       "      <th>26</th>\n",
       "      <td>October 12, 2020</td>\n",
       "      <td>NaN</td>\n",
       "      <td>NaN</td>\n",
       "      <td>NBL</td>\n",
       "      <td>Noble Energy</td>\n",
       "      <td>Chevron acquired Noble Energy.[22]</td>\n",
       "    </tr>\n",
       "    <tr>\n",
       "      <th>27</th>\n",
       "      <td>October 9, 2020</td>\n",
       "      <td>VNT</td>\n",
       "      <td>Vontier</td>\n",
       "      <td>NaN</td>\n",
       "      <td>NaN</td>\n",
       "      <td>S&amp;P 500 constituent Fortive spun off Vontier.[22]</td>\n",
       "    </tr>\n",
       "    <tr>\n",
       "      <th>38</th>\n",
       "      <td>April 6, 2020</td>\n",
       "      <td>NaN</td>\n",
       "      <td>NaN</td>\n",
       "      <td>M</td>\n",
       "      <td>Macy's</td>\n",
       "      <td>Market capitalization change.[28]</td>\n",
       "    </tr>\n",
       "    <tr>\n",
       "      <th>39</th>\n",
       "      <td>April 6, 2020</td>\n",
       "      <td>NaN</td>\n",
       "      <td>NaN</td>\n",
       "      <td>RTN</td>\n",
       "      <td>Raytheon Company</td>\n",
       "      <td>United Technologies spun off Otis and Carrier ...</td>\n",
       "    </tr>\n",
       "    <tr>\n",
       "      <th>40</th>\n",
       "      <td>April 3, 2020</td>\n",
       "      <td>OTIS</td>\n",
       "      <td>Otis Worldwide</td>\n",
       "      <td>NaN</td>\n",
       "      <td>NaN</td>\n",
       "      <td>United Technologies spun off Otis and Carrier ...</td>\n",
       "    </tr>\n",
       "    <tr>\n",
       "      <th>41</th>\n",
       "      <td>April 3, 2020</td>\n",
       "      <td>CARR</td>\n",
       "      <td>Carrier</td>\n",
       "      <td>NaN</td>\n",
       "      <td>NaN</td>\n",
       "      <td>United Technologies spun off Otis and Carrier ...</td>\n",
       "    </tr>\n",
       "    <tr>\n",
       "      <th>135</th>\n",
       "      <td>April 8, 2016</td>\n",
       "      <td>UA</td>\n",
       "      <td>Under Armour (Class C)</td>\n",
       "      <td>NaN</td>\n",
       "      <td>NaN</td>\n",
       "      <td>Under Armour distribution of second class of s...</td>\n",
       "    </tr>\n",
       "    <tr>\n",
       "      <th>147</th>\n",
       "      <td>December 15, 2015</td>\n",
       "      <td>NaN</td>\n",
       "      <td>NaN</td>\n",
       "      <td>CMCSK</td>\n",
       "      <td>Comcast K Corp</td>\n",
       "      <td>CMCSK shares no longer listed[111]</td>\n",
       "    </tr>\n",
       "    <tr>\n",
       "      <th>153</th>\n",
       "      <td>September 18, 2015</td>\n",
       "      <td>CMCSK</td>\n",
       "      <td>Comcast Class K Special</td>\n",
       "      <td>NaN</td>\n",
       "      <td>NaN</td>\n",
       "      <td>Share class methodology change[117]</td>\n",
       "    </tr>\n",
       "    <tr>\n",
       "      <th>154</th>\n",
       "      <td>September 18, 2015</td>\n",
       "      <td>FOX</td>\n",
       "      <td>Twenty-First Century Fox Class B</td>\n",
       "      <td>NaN</td>\n",
       "      <td>NaN</td>\n",
       "      <td>Share class methodology change</td>\n",
       "    </tr>\n",
       "    <tr>\n",
       "      <th>155</th>\n",
       "      <td>September 18, 2015</td>\n",
       "      <td>NWS</td>\n",
       "      <td>News Corporation Class B</td>\n",
       "      <td>NaN</td>\n",
       "      <td>NaN</td>\n",
       "      <td>Share class methodology change</td>\n",
       "    </tr>\n",
       "    <tr>\n",
       "      <th>180</th>\n",
       "      <td>August 6, 2014</td>\n",
       "      <td>DISCK</td>\n",
       "      <td>Discovery Communications</td>\n",
       "      <td>NaN</td>\n",
       "      <td>NaN</td>\n",
       "      <td>Class C share distribution[138]</td>\n",
       "    </tr>\n",
       "    <tr>\n",
       "      <th>187</th>\n",
       "      <td>April 3, 2014</td>\n",
       "      <td>GOOGL</td>\n",
       "      <td>Google</td>\n",
       "      <td>NaN</td>\n",
       "      <td>NaN</td>\n",
       "      <td>Google Class C share distribution[144]</td>\n",
       "    </tr>\n",
       "  </tbody>\n",
       "</table>\n",
       "</div>"
      ],
      "text/plain": [
       "                   Date  Added                           Added.1 Removed  \\\n",
       "3      February 3, 2022    NaN                               NaN     GPS   \n",
       "4      February 2, 2022    CEG              Constellation Energy     NaN   \n",
       "14         June 4, 2021    NaN                               NaN     HFC   \n",
       "15         June 3, 2021    OGN                     Organon & Co.     NaN   \n",
       "26     October 12, 2020    NaN                               NaN     NBL   \n",
       "27      October 9, 2020    VNT                           Vontier     NaN   \n",
       "38        April 6, 2020    NaN                               NaN       M   \n",
       "39        April 6, 2020    NaN                               NaN     RTN   \n",
       "40        April 3, 2020   OTIS                    Otis Worldwide     NaN   \n",
       "41        April 3, 2020   CARR                           Carrier     NaN   \n",
       "135       April 8, 2016     UA            Under Armour (Class C)     NaN   \n",
       "147   December 15, 2015    NaN                               NaN   CMCSK   \n",
       "153  September 18, 2015  CMCSK           Comcast Class K Special     NaN   \n",
       "154  September 18, 2015    FOX  Twenty-First Century Fox Class B     NaN   \n",
       "155  September 18, 2015    NWS          News Corporation Class B     NaN   \n",
       "180      August 6, 2014  DISCK          Discovery Communications     NaN   \n",
       "187       April 3, 2014  GOOGL                            Google     NaN   \n",
       "\n",
       "            Removed.1                                             Reason  \n",
       "3                 Gap                   Market capitalization change.[8]  \n",
       "4                 NaN  S&P 500 and 100 constituent Exelon Corp. spun ...  \n",
       "14      HollyFrontier                  Market capitalization change.[14]  \n",
       "15                NaN  S&P 500/100 constituent Merck & Co. spun off O...  \n",
       "26       Noble Energy                 Chevron acquired Noble Energy.[22]  \n",
       "27                NaN  S&P 500 constituent Fortive spun off Vontier.[22]  \n",
       "38             Macy's                  Market capitalization change.[28]  \n",
       "39   Raytheon Company  United Technologies spun off Otis and Carrier ...  \n",
       "40                NaN  United Technologies spun off Otis and Carrier ...  \n",
       "41                NaN  United Technologies spun off Otis and Carrier ...  \n",
       "135               NaN  Under Armour distribution of second class of s...  \n",
       "147    Comcast K Corp                 CMCSK shares no longer listed[111]  \n",
       "153               NaN                Share class methodology change[117]  \n",
       "154               NaN                     Share class methodology change  \n",
       "155               NaN                     Share class methodology change  \n",
       "180               NaN                    Class C share distribution[138]  \n",
       "187               NaN             Google Class C share distribution[144]  "
      ]
     },
     "execution_count": 5,
     "metadata": {},
     "output_type": "execute_result"
    }
   ],
   "source": [
    "# import historical companies csv\n",
    "wiki_changes = pd.read_csv('../data/raw/historical_companies_wiki.csv')\n",
    "mask = wiki_changes.isna().any(axis=1)\n",
    "wiki_changes[mask]"
   ]
  },
  {
   "cell_type": "markdown",
   "id": "81fd8d00",
   "metadata": {},
   "source": []
  },
  {
   "cell_type": "code",
   "execution_count": 11,
   "id": "feea64f9",
   "metadata": {},
   "outputs": [],
   "source": [
    "wiki_changes = wiki_changes.drop(0, axis=0)"
   ]
  },
  {
   "cell_type": "code",
   "execution_count": 12,
   "id": "e8e66306",
   "metadata": {},
   "outputs": [],
   "source": [
    "wiki_changes.columns = [\n",
    "    'date', \n",
    "    'addedTicker', \n",
    "    'addedName', \n",
    "    'removedTicker', \n",
    "    'removedName', \n",
    "    'reason',\n",
    "    ]"
   ]
  },
  {
   "cell_type": "code",
   "execution_count": 13,
   "id": "9973a237",
   "metadata": {},
   "outputs": [
    {
     "data": {
      "text/html": [
       "<div>\n",
       "<style scoped>\n",
       "    .dataframe tbody tr th:only-of-type {\n",
       "        vertical-align: middle;\n",
       "    }\n",
       "\n",
       "    .dataframe tbody tr th {\n",
       "        vertical-align: top;\n",
       "    }\n",
       "\n",
       "    .dataframe thead th {\n",
       "        text-align: right;\n",
       "    }\n",
       "</style>\n",
       "<table border=\"1\" class=\"dataframe\">\n",
       "  <thead>\n",
       "    <tr style=\"text-align: right;\">\n",
       "      <th></th>\n",
       "      <th>date</th>\n",
       "      <th>symbol</th>\n",
       "      <th>name</th>\n",
       "      <th>reason</th>\n",
       "      <th>action</th>\n",
       "    </tr>\n",
       "  </thead>\n",
       "  <tbody>\n",
       "    <tr>\n",
       "      <th>1</th>\n",
       "      <td>March 2, 2022</td>\n",
       "      <td>MOH</td>\n",
       "      <td>Molina Healthcare</td>\n",
       "      <td>S&amp;P 500 constituent S&amp;P Global Inc. acquired I...</td>\n",
       "      <td>add</td>\n",
       "    </tr>\n",
       "    <tr>\n",
       "      <th>2</th>\n",
       "      <td>February 15, 2022</td>\n",
       "      <td>NDSN</td>\n",
       "      <td>Nordson</td>\n",
       "      <td>S&amp;P 500 constituent Advanced Micro Devices acq...</td>\n",
       "      <td>add</td>\n",
       "    </tr>\n",
       "    <tr>\n",
       "      <th>3</th>\n",
       "      <td>February 3, 2022</td>\n",
       "      <td>NaN</td>\n",
       "      <td>NaN</td>\n",
       "      <td>Market capitalization change.[8]</td>\n",
       "      <td>add</td>\n",
       "    </tr>\n",
       "    <tr>\n",
       "      <th>4</th>\n",
       "      <td>February 2, 2022</td>\n",
       "      <td>CEG</td>\n",
       "      <td>Constellation Energy</td>\n",
       "      <td>S&amp;P 500 and 100 constituent Exelon Corp. spun ...</td>\n",
       "      <td>add</td>\n",
       "    </tr>\n",
       "    <tr>\n",
       "      <th>5</th>\n",
       "      <td>December 20, 2021</td>\n",
       "      <td>SBNY</td>\n",
       "      <td>Signature Bank</td>\n",
       "      <td>Market capitalization change.[9]</td>\n",
       "      <td>add</td>\n",
       "    </tr>\n",
       "    <tr>\n",
       "      <th>...</th>\n",
       "      <td>...</td>\n",
       "      <td>...</td>\n",
       "      <td>...</td>\n",
       "      <td>...</td>\n",
       "      <td>...</td>\n",
       "    </tr>\n",
       "    <tr>\n",
       "      <th>288</th>\n",
       "      <td>December 5, 2000</td>\n",
       "      <td>AYE</td>\n",
       "      <td>Allegheny Energy</td>\n",
       "      <td>Market Cap changes.</td>\n",
       "      <td>add</td>\n",
       "    </tr>\n",
       "    <tr>\n",
       "      <th>289</th>\n",
       "      <td>December 5, 2000</td>\n",
       "      <td>ABK</td>\n",
       "      <td>Ambac Financial</td>\n",
       "      <td>Market Cap changes.</td>\n",
       "      <td>add</td>\n",
       "    </tr>\n",
       "    <tr>\n",
       "      <th>290</th>\n",
       "      <td>July 27, 2000</td>\n",
       "      <td>JDSU</td>\n",
       "      <td>JDS Uniphase</td>\n",
       "      <td>Market Cap change.[225]</td>\n",
       "      <td>add</td>\n",
       "    </tr>\n",
       "    <tr>\n",
       "      <th>291</th>\n",
       "      <td>June 7, 2000</td>\n",
       "      <td>SBUX</td>\n",
       "      <td>Starbucks</td>\n",
       "      <td>Siemens AG acquired Shared Medical Systems.[226]</td>\n",
       "      <td>add</td>\n",
       "    </tr>\n",
       "    <tr>\n",
       "      <th>292</th>\n",
       "      <td>December 7, 1999</td>\n",
       "      <td>YHOO</td>\n",
       "      <td>Yahoo!</td>\n",
       "      <td>Market capitalization change.[227]</td>\n",
       "      <td>add</td>\n",
       "    </tr>\n",
       "  </tbody>\n",
       "</table>\n",
       "<p>292 rows × 5 columns</p>\n",
       "</div>"
      ],
      "text/plain": [
       "                  date symbol                  name  \\\n",
       "1        March 2, 2022    MOH     Molina Healthcare   \n",
       "2    February 15, 2022   NDSN               Nordson   \n",
       "3     February 3, 2022    NaN                   NaN   \n",
       "4     February 2, 2022    CEG  Constellation Energy   \n",
       "5    December 20, 2021   SBNY        Signature Bank   \n",
       "..                 ...    ...                   ...   \n",
       "288   December 5, 2000    AYE      Allegheny Energy   \n",
       "289   December 5, 2000    ABK       Ambac Financial   \n",
       "290      July 27, 2000   JDSU          JDS Uniphase   \n",
       "291       June 7, 2000   SBUX             Starbucks   \n",
       "292   December 7, 1999   YHOO                Yahoo!   \n",
       "\n",
       "                                                reason action  \n",
       "1    S&P 500 constituent S&P Global Inc. acquired I...    add  \n",
       "2    S&P 500 constituent Advanced Micro Devices acq...    add  \n",
       "3                     Market capitalization change.[8]    add  \n",
       "4    S&P 500 and 100 constituent Exelon Corp. spun ...    add  \n",
       "5                     Market capitalization change.[9]    add  \n",
       "..                                                 ...    ...  \n",
       "288                                Market Cap changes.    add  \n",
       "289                                Market Cap changes.    add  \n",
       "290                            Market Cap change.[225]    add  \n",
       "291   Siemens AG acquired Shared Medical Systems.[226]    add  \n",
       "292                 Market capitalization change.[227]    add  \n",
       "\n",
       "[292 rows x 5 columns]"
      ]
     },
     "execution_count": 13,
     "metadata": {},
     "output_type": "execute_result"
    }
   ],
   "source": [
    "# added DataFrame\n",
    "# Select relevant columns, add a variable indicating its added and rename for latter concat\n",
    "added_colmask = ['date', 'addedTicker', 'addedName', 'reason']\n",
    "wiki_changes_added = wiki_changes.loc[:,added_colmask]\n",
    "wiki_changes_added.columns = ['date', 'symbol', 'name',' reason']\n",
    "wiki_changes_added['action'] = 'add'\n",
    "wiki_changes_added"
   ]
  },
  {
   "cell_type": "code",
   "execution_count": 14,
   "id": "fbe6698e",
   "metadata": {},
   "outputs": [
    {
     "data": {
      "text/html": [
       "<div>\n",
       "<style scoped>\n",
       "    .dataframe tbody tr th:only-of-type {\n",
       "        vertical-align: middle;\n",
       "    }\n",
       "\n",
       "    .dataframe tbody tr th {\n",
       "        vertical-align: top;\n",
       "    }\n",
       "\n",
       "    .dataframe thead th {\n",
       "        text-align: right;\n",
       "    }\n",
       "</style>\n",
       "<table border=\"1\" class=\"dataframe\">\n",
       "  <thead>\n",
       "    <tr style=\"text-align: right;\">\n",
       "      <th></th>\n",
       "      <th>date</th>\n",
       "      <th>symbol</th>\n",
       "      <th>name</th>\n",
       "      <th>reason</th>\n",
       "      <th>action</th>\n",
       "    </tr>\n",
       "  </thead>\n",
       "  <tbody>\n",
       "    <tr>\n",
       "      <th>1</th>\n",
       "      <td>March 2, 2022</td>\n",
       "      <td>INFO</td>\n",
       "      <td>IHS Markit</td>\n",
       "      <td>S&amp;P 500 constituent S&amp;P Global Inc. acquired I...</td>\n",
       "      <td>remove</td>\n",
       "    </tr>\n",
       "    <tr>\n",
       "      <th>2</th>\n",
       "      <td>February 15, 2022</td>\n",
       "      <td>XLNX</td>\n",
       "      <td>Xilinx</td>\n",
       "      <td>S&amp;P 500 constituent Advanced Micro Devices acq...</td>\n",
       "      <td>remove</td>\n",
       "    </tr>\n",
       "    <tr>\n",
       "      <th>3</th>\n",
       "      <td>February 3, 2022</td>\n",
       "      <td>GPS</td>\n",
       "      <td>Gap</td>\n",
       "      <td>Market capitalization change.[8]</td>\n",
       "      <td>remove</td>\n",
       "    </tr>\n",
       "    <tr>\n",
       "      <th>4</th>\n",
       "      <td>February 2, 2022</td>\n",
       "      <td>NaN</td>\n",
       "      <td>NaN</td>\n",
       "      <td>S&amp;P 500 and 100 constituent Exelon Corp. spun ...</td>\n",
       "      <td>remove</td>\n",
       "    </tr>\n",
       "    <tr>\n",
       "      <th>5</th>\n",
       "      <td>December 20, 2021</td>\n",
       "      <td>LEG</td>\n",
       "      <td>Leggett &amp; Platt</td>\n",
       "      <td>Market capitalization change.[9]</td>\n",
       "      <td>remove</td>\n",
       "    </tr>\n",
       "    <tr>\n",
       "      <th>...</th>\n",
       "      <td>...</td>\n",
       "      <td>...</td>\n",
       "      <td>...</td>\n",
       "      <td>...</td>\n",
       "      <td>...</td>\n",
       "    </tr>\n",
       "    <tr>\n",
       "      <th>288</th>\n",
       "      <td>December 5, 2000</td>\n",
       "      <td>GRA</td>\n",
       "      <td>WR Grace</td>\n",
       "      <td>Market Cap changes.</td>\n",
       "      <td>remove</td>\n",
       "    </tr>\n",
       "    <tr>\n",
       "      <th>289</th>\n",
       "      <td>December 5, 2000</td>\n",
       "      <td>CCK</td>\n",
       "      <td>Crown Holdings</td>\n",
       "      <td>Market Cap changes.</td>\n",
       "      <td>remove</td>\n",
       "    </tr>\n",
       "    <tr>\n",
       "      <th>290</th>\n",
       "      <td>July 27, 2000</td>\n",
       "      <td>RAD</td>\n",
       "      <td>RiteAid</td>\n",
       "      <td>Market Cap change.[225]</td>\n",
       "      <td>remove</td>\n",
       "    </tr>\n",
       "    <tr>\n",
       "      <th>291</th>\n",
       "      <td>June 7, 2000</td>\n",
       "      <td>SMS</td>\n",
       "      <td>Shared Medical Systems</td>\n",
       "      <td>Siemens AG acquired Shared Medical Systems.[226]</td>\n",
       "      <td>remove</td>\n",
       "    </tr>\n",
       "    <tr>\n",
       "      <th>292</th>\n",
       "      <td>December 7, 1999</td>\n",
       "      <td>LDW</td>\n",
       "      <td>Laidlaw</td>\n",
       "      <td>Market capitalization change.[227]</td>\n",
       "      <td>remove</td>\n",
       "    </tr>\n",
       "  </tbody>\n",
       "</table>\n",
       "<p>292 rows × 5 columns</p>\n",
       "</div>"
      ],
      "text/plain": [
       "                  date symbol                    name  \\\n",
       "1        March 2, 2022   INFO              IHS Markit   \n",
       "2    February 15, 2022   XLNX                  Xilinx   \n",
       "3     February 3, 2022    GPS                     Gap   \n",
       "4     February 2, 2022    NaN                     NaN   \n",
       "5    December 20, 2021    LEG         Leggett & Platt   \n",
       "..                 ...    ...                     ...   \n",
       "288   December 5, 2000    GRA                WR Grace   \n",
       "289   December 5, 2000    CCK          Crown Holdings   \n",
       "290      July 27, 2000    RAD                 RiteAid   \n",
       "291       June 7, 2000    SMS  Shared Medical Systems   \n",
       "292   December 7, 1999    LDW                 Laidlaw   \n",
       "\n",
       "                                                reason  action  \n",
       "1    S&P 500 constituent S&P Global Inc. acquired I...  remove  \n",
       "2    S&P 500 constituent Advanced Micro Devices acq...  remove  \n",
       "3                     Market capitalization change.[8]  remove  \n",
       "4    S&P 500 and 100 constituent Exelon Corp. spun ...  remove  \n",
       "5                     Market capitalization change.[9]  remove  \n",
       "..                                                 ...     ...  \n",
       "288                                Market Cap changes.  remove  \n",
       "289                                Market Cap changes.  remove  \n",
       "290                            Market Cap change.[225]  remove  \n",
       "291   Siemens AG acquired Shared Medical Systems.[226]  remove  \n",
       "292                 Market capitalization change.[227]  remove  \n",
       "\n",
       "[292 rows x 5 columns]"
      ]
     },
     "execution_count": 14,
     "metadata": {},
     "output_type": "execute_result"
    }
   ],
   "source": [
    "# removed DataFrame\n",
    "# Select relevant columns, add a variable indicating its added and rename for latter concat\n",
    "removed_colmask = ['date', 'removedTicker', 'removedName', 'reason']\n",
    "wiki_changes_removed = wiki_changes.loc[:,removed_colmask]\n",
    "wiki_changes_removed.columns = ['date', 'symbol', 'name',' reason']\n",
    "wiki_changes_removed['action'] = 'remove'\n",
    "wiki_changes_removed"
   ]
  },
  {
   "cell_type": "code",
   "execution_count": 15,
   "id": "8e9c1ca1",
   "metadata": {},
   "outputs": [
    {
     "data": {
      "text/html": [
       "<div>\n",
       "<style scoped>\n",
       "    .dataframe tbody tr th:only-of-type {\n",
       "        vertical-align: middle;\n",
       "    }\n",
       "\n",
       "    .dataframe tbody tr th {\n",
       "        vertical-align: top;\n",
       "    }\n",
       "\n",
       "    .dataframe thead th {\n",
       "        text-align: right;\n",
       "    }\n",
       "</style>\n",
       "<table border=\"1\" class=\"dataframe\">\n",
       "  <thead>\n",
       "    <tr style=\"text-align: right;\">\n",
       "      <th></th>\n",
       "      <th>date</th>\n",
       "      <th>symbol</th>\n",
       "      <th>name</th>\n",
       "      <th>reason</th>\n",
       "      <th>action</th>\n",
       "    </tr>\n",
       "  </thead>\n",
       "  <tbody>\n",
       "    <tr>\n",
       "      <th>1</th>\n",
       "      <td>March 2, 2022</td>\n",
       "      <td>MOH</td>\n",
       "      <td>Molina Healthcare</td>\n",
       "      <td>S&amp;P 500 constituent S&amp;P Global Inc. acquired I...</td>\n",
       "      <td>add</td>\n",
       "    </tr>\n",
       "    <tr>\n",
       "      <th>2</th>\n",
       "      <td>February 15, 2022</td>\n",
       "      <td>NDSN</td>\n",
       "      <td>Nordson</td>\n",
       "      <td>S&amp;P 500 constituent Advanced Micro Devices acq...</td>\n",
       "      <td>add</td>\n",
       "    </tr>\n",
       "    <tr>\n",
       "      <th>3</th>\n",
       "      <td>February 3, 2022</td>\n",
       "      <td>NaN</td>\n",
       "      <td>NaN</td>\n",
       "      <td>Market capitalization change.[8]</td>\n",
       "      <td>add</td>\n",
       "    </tr>\n",
       "    <tr>\n",
       "      <th>4</th>\n",
       "      <td>February 2, 2022</td>\n",
       "      <td>CEG</td>\n",
       "      <td>Constellation Energy</td>\n",
       "      <td>S&amp;P 500 and 100 constituent Exelon Corp. spun ...</td>\n",
       "      <td>add</td>\n",
       "    </tr>\n",
       "    <tr>\n",
       "      <th>5</th>\n",
       "      <td>December 20, 2021</td>\n",
       "      <td>SBNY</td>\n",
       "      <td>Signature Bank</td>\n",
       "      <td>Market capitalization change.[9]</td>\n",
       "      <td>add</td>\n",
       "    </tr>\n",
       "    <tr>\n",
       "      <th>...</th>\n",
       "      <td>...</td>\n",
       "      <td>...</td>\n",
       "      <td>...</td>\n",
       "      <td>...</td>\n",
       "      <td>...</td>\n",
       "    </tr>\n",
       "    <tr>\n",
       "      <th>288</th>\n",
       "      <td>December 5, 2000</td>\n",
       "      <td>GRA</td>\n",
       "      <td>WR Grace</td>\n",
       "      <td>Market Cap changes.</td>\n",
       "      <td>remove</td>\n",
       "    </tr>\n",
       "    <tr>\n",
       "      <th>289</th>\n",
       "      <td>December 5, 2000</td>\n",
       "      <td>CCK</td>\n",
       "      <td>Crown Holdings</td>\n",
       "      <td>Market Cap changes.</td>\n",
       "      <td>remove</td>\n",
       "    </tr>\n",
       "    <tr>\n",
       "      <th>290</th>\n",
       "      <td>July 27, 2000</td>\n",
       "      <td>RAD</td>\n",
       "      <td>RiteAid</td>\n",
       "      <td>Market Cap change.[225]</td>\n",
       "      <td>remove</td>\n",
       "    </tr>\n",
       "    <tr>\n",
       "      <th>291</th>\n",
       "      <td>June 7, 2000</td>\n",
       "      <td>SMS</td>\n",
       "      <td>Shared Medical Systems</td>\n",
       "      <td>Siemens AG acquired Shared Medical Systems.[226]</td>\n",
       "      <td>remove</td>\n",
       "    </tr>\n",
       "    <tr>\n",
       "      <th>292</th>\n",
       "      <td>December 7, 1999</td>\n",
       "      <td>LDW</td>\n",
       "      <td>Laidlaw</td>\n",
       "      <td>Market capitalization change.[227]</td>\n",
       "      <td>remove</td>\n",
       "    </tr>\n",
       "  </tbody>\n",
       "</table>\n",
       "<p>584 rows × 5 columns</p>\n",
       "</div>"
      ],
      "text/plain": [
       "                  date symbol                    name  \\\n",
       "1        March 2, 2022    MOH       Molina Healthcare   \n",
       "2    February 15, 2022   NDSN                 Nordson   \n",
       "3     February 3, 2022    NaN                     NaN   \n",
       "4     February 2, 2022    CEG    Constellation Energy   \n",
       "5    December 20, 2021   SBNY          Signature Bank   \n",
       "..                 ...    ...                     ...   \n",
       "288   December 5, 2000    GRA                WR Grace   \n",
       "289   December 5, 2000    CCK          Crown Holdings   \n",
       "290      July 27, 2000    RAD                 RiteAid   \n",
       "291       June 7, 2000    SMS  Shared Medical Systems   \n",
       "292   December 7, 1999    LDW                 Laidlaw   \n",
       "\n",
       "                                                reason  action  \n",
       "1    S&P 500 constituent S&P Global Inc. acquired I...     add  \n",
       "2    S&P 500 constituent Advanced Micro Devices acq...     add  \n",
       "3                     Market capitalization change.[8]     add  \n",
       "4    S&P 500 and 100 constituent Exelon Corp. spun ...     add  \n",
       "5                     Market capitalization change.[9]     add  \n",
       "..                                                 ...     ...  \n",
       "288                                Market Cap changes.  remove  \n",
       "289                                Market Cap changes.  remove  \n",
       "290                            Market Cap change.[225]  remove  \n",
       "291   Siemens AG acquired Shared Medical Systems.[226]  remove  \n",
       "292                 Market capitalization change.[227]  remove  \n",
       "\n",
       "[584 rows x 5 columns]"
      ]
     },
     "execution_count": 15,
     "metadata": {},
     "output_type": "execute_result"
    }
   ],
   "source": [
    "wiki_changes_melted = pd.concat([wiki_changes_added, wiki_changes_removed])\n",
    "wiki_changes_melted"
   ]
  },
  {
   "cell_type": "code",
   "execution_count": 16,
   "id": "0a629433",
   "metadata": {},
   "outputs": [
    {
     "data": {
      "text/html": [
       "<div>\n",
       "<style scoped>\n",
       "    .dataframe tbody tr th:only-of-type {\n",
       "        vertical-align: middle;\n",
       "    }\n",
       "\n",
       "    .dataframe tbody tr th {\n",
       "        vertical-align: top;\n",
       "    }\n",
       "\n",
       "    .dataframe thead th {\n",
       "        text-align: right;\n",
       "    }\n",
       "</style>\n",
       "<table border=\"1\" class=\"dataframe\">\n",
       "  <thead>\n",
       "    <tr style=\"text-align: right;\">\n",
       "      <th></th>\n",
       "      <th>date</th>\n",
       "      <th>symbol</th>\n",
       "      <th>name</th>\n",
       "      <th>reason</th>\n",
       "      <th>action</th>\n",
       "    </tr>\n",
       "  </thead>\n",
       "  <tbody>\n",
       "    <tr>\n",
       "      <th>40</th>\n",
       "      <td>April 3, 2020</td>\n",
       "      <td>NaN</td>\n",
       "      <td>NaN</td>\n",
       "      <td>United Technologies spun off Otis and Carrier ...</td>\n",
       "      <td>remove</td>\n",
       "    </tr>\n",
       "    <tr>\n",
       "      <th>41</th>\n",
       "      <td>April 3, 2020</td>\n",
       "      <td>NaN</td>\n",
       "      <td>NaN</td>\n",
       "      <td>United Technologies spun off Otis and Carrier ...</td>\n",
       "      <td>remove</td>\n",
       "    </tr>\n",
       "    <tr>\n",
       "      <th>154</th>\n",
       "      <td>September 18, 2015</td>\n",
       "      <td>NaN</td>\n",
       "      <td>NaN</td>\n",
       "      <td>Share class methodology change</td>\n",
       "      <td>remove</td>\n",
       "    </tr>\n",
       "    <tr>\n",
       "      <th>155</th>\n",
       "      <td>September 18, 2015</td>\n",
       "      <td>NaN</td>\n",
       "      <td>NaN</td>\n",
       "      <td>Share class methodology change</td>\n",
       "      <td>remove</td>\n",
       "    </tr>\n",
       "  </tbody>\n",
       "</table>\n",
       "</div>"
      ],
      "text/plain": [
       "                   date symbol name  \\\n",
       "40        April 3, 2020    NaN  NaN   \n",
       "41        April 3, 2020    NaN  NaN   \n",
       "154  September 18, 2015    NaN  NaN   \n",
       "155  September 18, 2015    NaN  NaN   \n",
       "\n",
       "                                                reason  action  \n",
       "40   United Technologies spun off Otis and Carrier ...  remove  \n",
       "41   United Technologies spun off Otis and Carrier ...  remove  \n",
       "154                     Share class methodology change  remove  \n",
       "155                     Share class methodology change  remove  "
      ]
     },
     "execution_count": 16,
     "metadata": {},
     "output_type": "execute_result"
    }
   ],
   "source": [
    "duplicated_mask = wiki_changes_melted.duplicated(keep=False)\n",
    "wiki_changes_melted[duplicated_mask]"
   ]
  },
  {
   "cell_type": "code",
   "execution_count": 17,
   "id": "9454955c",
   "metadata": {},
   "outputs": [
    {
     "data": {
      "text/plain": [
       "488"
      ]
     },
     "execution_count": 17,
     "metadata": {},
     "output_type": "execute_result"
    }
   ],
   "source": [
    "a = wiki_changes_melted.symbol.to_list()\n",
    "a = set(a)\n",
    "len(a)"
   ]
  },
  {
   "cell_type": "code",
   "execution_count": 18,
   "id": "f30b84f3",
   "metadata": {},
   "outputs": [
    {
     "data": {
      "text/plain": [
       "27"
      ]
     },
     "execution_count": 18,
     "metadata": {},
     "output_type": "execute_result"
    }
   ],
   "source": [
    "not_in = [x for x in list(a) if x not in companies.symbol.to_list()] \n",
    "len(not_in)"
   ]
  },
  {
   "cell_type": "code",
   "execution_count": 22,
   "id": "539695fd",
   "metadata": {},
   "outputs": [
    {
     "data": {
      "text/plain": [
       "(1125, 10)"
      ]
     },
     "execution_count": 22,
     "metadata": {},
     "output_type": "execute_result"
    }
   ],
   "source": [
    "companies.shape"
   ]
  },
  {
   "cell_type": "markdown",
   "id": "92f3250b",
   "metadata": {},
   "source": [
    "#### Comment 2\n",
    "There are cases of companies added or removed to the sp500 where we only have an inclusion or exclusion date but not both and determining their stays will therefore be tricky. Our objective is to get to a Minimum Viable Product ASAP so we'll be ignoring this issue for no. \n",
    "\n",
    "Included in future developements"
   ]
  },
  {
   "cell_type": "code",
   "execution_count": 21,
   "id": "85db3857",
   "metadata": {},
   "outputs": [
    {
     "data": {
      "text/html": [
       "<div>\n",
       "<style scoped>\n",
       "    .dataframe tbody tr th:only-of-type {\n",
       "        vertical-align: middle;\n",
       "    }\n",
       "\n",
       "    .dataframe tbody tr th {\n",
       "        vertical-align: top;\n",
       "    }\n",
       "\n",
       "    .dataframe thead th {\n",
       "        text-align: right;\n",
       "    }\n",
       "</style>\n",
       "<table border=\"1\" class=\"dataframe\">\n",
       "  <thead>\n",
       "    <tr style=\"text-align: right;\">\n",
       "      <th></th>\n",
       "      <th>date</th>\n",
       "      <th>symbol</th>\n",
       "      <th>name</th>\n",
       "      <th>reason</th>\n",
       "      <th>action</th>\n",
       "    </tr>\n",
       "  </thead>\n",
       "  <tbody>\n",
       "    <tr>\n",
       "      <th>210</th>\n",
       "      <td>December 21, 2012</td>\n",
       "      <td>DLPH</td>\n",
       "      <td>Delphi Automotive</td>\n",
       "      <td>TIE acquired by Precision Cast Parts (PCP)[164]</td>\n",
       "      <td>add</td>\n",
       "    </tr>\n",
       "    <tr>\n",
       "      <th>239</th>\n",
       "      <td>June 1, 2011</td>\n",
       "      <td>ANR</td>\n",
       "      <td>Alpha Natural Resources</td>\n",
       "      <td>Alpha Natural Resources acquired Massey Energy...</td>\n",
       "      <td>add</td>\n",
       "    </tr>\n",
       "    <tr>\n",
       "      <th>250</th>\n",
       "      <td>August 26, 2010</td>\n",
       "      <td>TYC</td>\n",
       "      <td>Tyco International</td>\n",
       "      <td>Acquired by Schlumberger (SLB)[198]</td>\n",
       "      <td>add</td>\n",
       "    </tr>\n",
       "    <tr>\n",
       "      <th>261</th>\n",
       "      <td>November 3, 2009</td>\n",
       "      <td>PCLN</td>\n",
       "      <td>Priceline.com</td>\n",
       "      <td>Acquired by Merck &amp; Co. (MRK)[205]</td>\n",
       "      <td>add</td>\n",
       "    </tr>\n",
       "    <tr>\n",
       "      <th>277</th>\n",
       "      <td>September 27, 2007</td>\n",
       "      <td>TSO</td>\n",
       "      <td>Tesoro Corporation</td>\n",
       "      <td>MXIM delisted from NASDAQ exchange.[216]</td>\n",
       "      <td>add</td>\n",
       "    </tr>\n",
       "    <tr>\n",
       "      <th>279</th>\n",
       "      <td>August 24, 2007</td>\n",
       "      <td>LUK</td>\n",
       "      <td>Leucadia National</td>\n",
       "      <td>Acquired by National Grid plc[217]</td>\n",
       "      <td>add</td>\n",
       "    </tr>\n",
       "    <tr>\n",
       "      <th>280</th>\n",
       "      <td>March 30, 2007</td>\n",
       "      <td>KFT</td>\n",
       "      <td>Kraft Foods</td>\n",
       "      <td>Taken Private[218]</td>\n",
       "      <td>add</td>\n",
       "    </tr>\n",
       "    <tr>\n",
       "      <th>289</th>\n",
       "      <td>December 5, 2000</td>\n",
       "      <td>ABK</td>\n",
       "      <td>Ambac Financial</td>\n",
       "      <td>Market Cap changes.</td>\n",
       "      <td>add</td>\n",
       "    </tr>\n",
       "    <tr>\n",
       "      <th>290</th>\n",
       "      <td>July 27, 2000</td>\n",
       "      <td>JDSU</td>\n",
       "      <td>JDS Uniphase</td>\n",
       "      <td>Market Cap change.[225]</td>\n",
       "      <td>add</td>\n",
       "    </tr>\n",
       "    <tr>\n",
       "      <th>292</th>\n",
       "      <td>December 7, 1999</td>\n",
       "      <td>YHOO</td>\n",
       "      <td>Yahoo!</td>\n",
       "      <td>Market capitalization change.[227]</td>\n",
       "      <td>add</td>\n",
       "    </tr>\n",
       "    <tr>\n",
       "      <th>76</th>\n",
       "      <td>July 2, 2018</td>\n",
       "      <td>DPS</td>\n",
       "      <td>Dr Pepper Snapple Group</td>\n",
       "      <td>DPS acquired by Keurig Green Mountain.[58]</td>\n",
       "      <td>remove</td>\n",
       "    </tr>\n",
       "    <tr>\n",
       "      <th>82</th>\n",
       "      <td>May 31, 2018</td>\n",
       "      <td>WYN</td>\n",
       "      <td>Wyndham Worldwide</td>\n",
       "      <td>Wyndham Worldwide spun off Wyndham Hotels &amp; Re...</td>\n",
       "      <td>remove</td>\n",
       "    </tr>\n",
       "    <tr>\n",
       "      <th>100</th>\n",
       "      <td>June 19, 2017</td>\n",
       "      <td>YHOO</td>\n",
       "      <td>Yahoo!</td>\n",
       "      <td>VZ acquired YHOO operations; remainder of YHOO...</td>\n",
       "      <td>remove</td>\n",
       "    </tr>\n",
       "    <tr>\n",
       "      <th>118</th>\n",
       "      <td>November 1, 2016</td>\n",
       "      <td>AA</td>\n",
       "      <td>Alcoa Inc</td>\n",
       "      <td>AA spins off ARNC[85]</td>\n",
       "      <td>remove</td>\n",
       "    </tr>\n",
       "    <tr>\n",
       "      <th>122</th>\n",
       "      <td>September 6, 2016</td>\n",
       "      <td>TYC</td>\n",
       "      <td>Tyco International</td>\n",
       "      <td>TYC acquires JCI (and retains JCI ticker).[89]</td>\n",
       "      <td>remove</td>\n",
       "    </tr>\n",
       "    <tr>\n",
       "      <th>144</th>\n",
       "      <td>January 19, 2016</td>\n",
       "      <td>ACE</td>\n",
       "      <td>Chubb</td>\n",
       "      <td>EXR replaces ACE as ACE Ltd acquires Chubb and...</td>\n",
       "      <td>remove</td>\n",
       "    </tr>\n",
       "    <tr>\n",
       "      <th>148</th>\n",
       "      <td>December 1, 2015</td>\n",
       "      <td>CSC</td>\n",
       "      <td>Computer Sciences Corporation</td>\n",
       "      <td>CSC spins off CSRA[112]</td>\n",
       "      <td>remove</td>\n",
       "    </tr>\n",
       "    <tr>\n",
       "      <th>177</th>\n",
       "      <td>September 20, 2014</td>\n",
       "      <td>BTU</td>\n",
       "      <td>Peabody Energy</td>\n",
       "      <td>Market cap changes[136]</td>\n",
       "      <td>remove</td>\n",
       "    </tr>\n",
       "    <tr>\n",
       "      <th>192</th>\n",
       "      <td>December 23, 2013</td>\n",
       "      <td>JDSU</td>\n",
       "      <td>JDS Uniphase</td>\n",
       "      <td>Market capitalization changes.[148]</td>\n",
       "      <td>remove</td>\n",
       "    </tr>\n",
       "    <tr>\n",
       "      <th>214</th>\n",
       "      <td>October 2, 2012</td>\n",
       "      <td>ANR</td>\n",
       "      <td>Alpha Natural Resources</td>\n",
       "      <td>Kraft split into two companies[168]</td>\n",
       "      <td>remove</td>\n",
       "    </tr>\n",
       "    <tr>\n",
       "      <th>216</th>\n",
       "      <td>October 1, 2012</td>\n",
       "      <td>DV</td>\n",
       "      <td>DeVry</td>\n",
       "      <td>Tyco spin-off merged w/Pentair[169]</td>\n",
       "      <td>remove</td>\n",
       "    </tr>\n",
       "    <tr>\n",
       "      <th>220</th>\n",
       "      <td>June 29, 2012</td>\n",
       "      <td>SLE</td>\n",
       "      <td>Sara Lee Corporation</td>\n",
       "      <td>Split up of Sara Lee[173]</td>\n",
       "      <td>remove</td>\n",
       "    </tr>\n",
       "    <tr>\n",
       "      <th>231</th>\n",
       "      <td>December 16, 2011</td>\n",
       "      <td>WFR</td>\n",
       "      <td>MEMC Electronic Materials</td>\n",
       "      <td>Market capitalization changes</td>\n",
       "      <td>remove</td>\n",
       "    </tr>\n",
       "    <tr>\n",
       "      <th>238</th>\n",
       "      <td>June 30, 2011</td>\n",
       "      <td>RSH</td>\n",
       "      <td>RadioShack</td>\n",
       "      <td>Market capitalization adjustments.[189]</td>\n",
       "      <td>remove</td>\n",
       "    </tr>\n",
       "    <tr>\n",
       "      <th>246</th>\n",
       "      <td>December 17, 2010</td>\n",
       "      <td>EK</td>\n",
       "      <td>Eastman Kodak</td>\n",
       "      <td>Market Cap changes.[196]</td>\n",
       "      <td>remove</td>\n",
       "    </tr>\n",
       "    <tr>\n",
       "      <th>266</th>\n",
       "      <td>September 16, 2008</td>\n",
       "      <td>LEH</td>\n",
       "      <td>Lehman Brothers</td>\n",
       "      <td>Lehman Brothers bankruptcy.[209]</td>\n",
       "      <td>remove</td>\n",
       "    </tr>\n",
       "    <tr>\n",
       "      <th>267</th>\n",
       "      <td>September 12, 2008</td>\n",
       "      <td>FRE</td>\n",
       "      <td>Freddie Mac</td>\n",
       "      <td>Capitalization rebalance.[210]</td>\n",
       "      <td>remove</td>\n",
       "    </tr>\n",
       "    <tr>\n",
       "      <th>268</th>\n",
       "      <td>September 12, 2008</td>\n",
       "      <td>FNM</td>\n",
       "      <td>Fannie Mae</td>\n",
       "      <td>Capitalization rebalance.[210]</td>\n",
       "      <td>remove</td>\n",
       "    </tr>\n",
       "    <tr>\n",
       "      <th>271</th>\n",
       "      <td>June 10, 2008</td>\n",
       "      <td>ABK</td>\n",
       "      <td>Ambac Financial</td>\n",
       "      <td>Market Value Decline[212]</td>\n",
       "      <td>remove</td>\n",
       "    </tr>\n",
       "    <tr>\n",
       "      <th>286</th>\n",
       "      <td>December 5, 2000</td>\n",
       "      <td>BS</td>\n",
       "      <td>Bethlehem Steel</td>\n",
       "      <td>Market Cap changes.[224]</td>\n",
       "      <td>remove</td>\n",
       "    </tr>\n",
       "    <tr>\n",
       "      <th>292</th>\n",
       "      <td>December 7, 1999</td>\n",
       "      <td>LDW</td>\n",
       "      <td>Laidlaw</td>\n",
       "      <td>Market capitalization change.[227]</td>\n",
       "      <td>remove</td>\n",
       "    </tr>\n",
       "  </tbody>\n",
       "</table>\n",
       "</div>"
      ],
      "text/plain": [
       "                   date symbol                           name  \\\n",
       "210   December 21, 2012   DLPH              Delphi Automotive   \n",
       "239        June 1, 2011    ANR        Alpha Natural Resources   \n",
       "250     August 26, 2010    TYC             Tyco International   \n",
       "261    November 3, 2009   PCLN                  Priceline.com   \n",
       "277  September 27, 2007    TSO             Tesoro Corporation   \n",
       "279     August 24, 2007    LUK              Leucadia National   \n",
       "280      March 30, 2007    KFT                    Kraft Foods   \n",
       "289    December 5, 2000    ABK                Ambac Financial   \n",
       "290       July 27, 2000   JDSU                   JDS Uniphase   \n",
       "292    December 7, 1999   YHOO                         Yahoo!   \n",
       "76         July 2, 2018    DPS        Dr Pepper Snapple Group   \n",
       "82         May 31, 2018    WYN              Wyndham Worldwide   \n",
       "100       June 19, 2017   YHOO                         Yahoo!   \n",
       "118    November 1, 2016     AA                      Alcoa Inc   \n",
       "122   September 6, 2016    TYC             Tyco International   \n",
       "144    January 19, 2016    ACE                          Chubb   \n",
       "148    December 1, 2015    CSC  Computer Sciences Corporation   \n",
       "177  September 20, 2014    BTU                 Peabody Energy   \n",
       "192   December 23, 2013   JDSU                   JDS Uniphase   \n",
       "214     October 2, 2012    ANR        Alpha Natural Resources   \n",
       "216     October 1, 2012     DV                          DeVry   \n",
       "220       June 29, 2012    SLE           Sara Lee Corporation   \n",
       "231   December 16, 2011    WFR      MEMC Electronic Materials   \n",
       "238       June 30, 2011    RSH                     RadioShack   \n",
       "246   December 17, 2010     EK                  Eastman Kodak   \n",
       "266  September 16, 2008    LEH                Lehman Brothers   \n",
       "267  September 12, 2008    FRE                    Freddie Mac   \n",
       "268  September 12, 2008    FNM                     Fannie Mae   \n",
       "271       June 10, 2008    ABK                Ambac Financial   \n",
       "286    December 5, 2000     BS                Bethlehem Steel   \n",
       "292    December 7, 1999    LDW                        Laidlaw   \n",
       "\n",
       "                                                reason  action  \n",
       "210    TIE acquired by Precision Cast Parts (PCP)[164]     add  \n",
       "239  Alpha Natural Resources acquired Massey Energy...     add  \n",
       "250                Acquired by Schlumberger (SLB)[198]     add  \n",
       "261                 Acquired by Merck & Co. (MRK)[205]     add  \n",
       "277           MXIM delisted from NASDAQ exchange.[216]     add  \n",
       "279                 Acquired by National Grid plc[217]     add  \n",
       "280                                 Taken Private[218]     add  \n",
       "289                                Market Cap changes.     add  \n",
       "290                            Market Cap change.[225]     add  \n",
       "292                 Market capitalization change.[227]     add  \n",
       "76          DPS acquired by Keurig Green Mountain.[58]  remove  \n",
       "82   Wyndham Worldwide spun off Wyndham Hotels & Re...  remove  \n",
       "100  VZ acquired YHOO operations; remainder of YHOO...  remove  \n",
       "118                              AA spins off ARNC[85]  remove  \n",
       "122     TYC acquires JCI (and retains JCI ticker).[89]  remove  \n",
       "144  EXR replaces ACE as ACE Ltd acquires Chubb and...  remove  \n",
       "148                            CSC spins off CSRA[112]  remove  \n",
       "177                            Market cap changes[136]  remove  \n",
       "192                Market capitalization changes.[148]  remove  \n",
       "214                Kraft split into two companies[168]  remove  \n",
       "216                Tyco spin-off merged w/Pentair[169]  remove  \n",
       "220                          Split up of Sara Lee[173]  remove  \n",
       "231                      Market capitalization changes  remove  \n",
       "238            Market capitalization adjustments.[189]  remove  \n",
       "246                           Market Cap changes.[196]  remove  \n",
       "266                   Lehman Brothers bankruptcy.[209]  remove  \n",
       "267                     Capitalization rebalance.[210]  remove  \n",
       "268                     Capitalization rebalance.[210]  remove  \n",
       "271                          Market Value Decline[212]  remove  \n",
       "286                           Market Cap changes.[224]  remove  \n",
       "292                 Market capitalization change.[227]  remove  "
      ]
     },
     "execution_count": 21,
     "metadata": {},
     "output_type": "execute_result"
    }
   ],
   "source": [
    "mask = wiki_changes_melted.symbol.isin(not_in)\n",
    "wiki_changes_melted[mask].dropna(subset='symbol')"
   ]
  },
  {
   "cell_type": "code",
   "execution_count": 19,
   "id": "76990a02",
   "metadata": {},
   "outputs": [
    {
     "data": {
      "text/plain": [
       "[nan,\n",
       " 'DLPH',\n",
       " 'LEH',\n",
       " 'JDSU',\n",
       " 'FNM',\n",
       " 'ABK',\n",
       " 'WFR',\n",
       " 'TYC',\n",
       " 'BS',\n",
       " 'SLE',\n",
       " 'WYN',\n",
       " 'LUK',\n",
       " 'ANR',\n",
       " 'YHOO',\n",
       " 'BTU',\n",
       " 'LDW',\n",
       " 'AA',\n",
       " 'TSO',\n",
       " 'CSC',\n",
       " 'KFT',\n",
       " 'FRE',\n",
       " 'DV',\n",
       " 'EK',\n",
       " 'PCLN',\n",
       " 'ACE',\n",
       " 'DPS',\n",
       " 'RSH']"
      ]
     },
     "execution_count": 19,
     "metadata": {},
     "output_type": "execute_result"
    }
   ],
   "source": [
    "not_in"
   ]
  },
  {
   "cell_type": "code",
   "execution_count": 53,
   "id": "a424b710",
   "metadata": {},
   "outputs": [
    {
     "data": {
      "text/html": [
       "<div>\n",
       "<style scoped>\n",
       "    .dataframe tbody tr th:only-of-type {\n",
       "        vertical-align: middle;\n",
       "    }\n",
       "\n",
       "    .dataframe tbody tr th {\n",
       "        vertical-align: top;\n",
       "    }\n",
       "\n",
       "    .dataframe thead th {\n",
       "        text-align: right;\n",
       "    }\n",
       "</style>\n",
       "<table border=\"1\" class=\"dataframe\">\n",
       "  <thead>\n",
       "    <tr style=\"text-align: right;\">\n",
       "      <th></th>\n",
       "      <th>symbol</th>\n",
       "      <th>name</th>\n",
       "      <th>sector</th>\n",
       "      <th>subSector</th>\n",
       "      <th>hQ</th>\n",
       "      <th>cik</th>\n",
       "      <th>founded</th>\n",
       "      <th>currentConstituent</th>\n",
       "      <th>cik_sec_list</th>\n",
       "      <th>title</th>\n",
       "    </tr>\n",
       "  </thead>\n",
       "  <tbody>\n",
       "    <tr>\n",
       "      <th>0</th>\n",
       "      <td>S</td>\n",
       "      <td>SentinelOne, Inc.</td>\n",
       "      <td>NaN</td>\n",
       "      <td>NaN</td>\n",
       "      <td>NaN</td>\n",
       "      <td>1583708.0</td>\n",
       "      <td>NaN</td>\n",
       "      <td>False</td>\n",
       "      <td>1583708.0</td>\n",
       "      <td>SentinelOne, Inc.</td>\n",
       "    </tr>\n",
       "    <tr>\n",
       "      <th>1</th>\n",
       "      <td>AHM</td>\n",
       "      <td>NaN</td>\n",
       "      <td>NaN</td>\n",
       "      <td>NaN</td>\n",
       "      <td>NaN</td>\n",
       "      <td>NaN</td>\n",
       "      <td>NaN</td>\n",
       "      <td>False</td>\n",
       "      <td>NaN</td>\n",
       "      <td>NaN</td>\n",
       "    </tr>\n",
       "    <tr>\n",
       "      <th>2</th>\n",
       "      <td>ANDW</td>\n",
       "      <td>NaN</td>\n",
       "      <td>NaN</td>\n",
       "      <td>NaN</td>\n",
       "      <td>NaN</td>\n",
       "      <td>NaN</td>\n",
       "      <td>NaN</td>\n",
       "      <td>False</td>\n",
       "      <td>NaN</td>\n",
       "      <td>NaN</td>\n",
       "    </tr>\n",
       "    <tr>\n",
       "      <th>3</th>\n",
       "      <td>FSLR</td>\n",
       "      <td>FIRST SOLAR, INC.</td>\n",
       "      <td>NaN</td>\n",
       "      <td>NaN</td>\n",
       "      <td>NaN</td>\n",
       "      <td>1274494.0</td>\n",
       "      <td>NaN</td>\n",
       "      <td>False</td>\n",
       "      <td>1274494.0</td>\n",
       "      <td>FIRST SOLAR, INC.</td>\n",
       "    </tr>\n",
       "    <tr>\n",
       "      <th>4</th>\n",
       "      <td>INTU</td>\n",
       "      <td>Intuit</td>\n",
       "      <td>Information Technology</td>\n",
       "      <td>Application Software</td>\n",
       "      <td>Mountain View, California</td>\n",
       "      <td>896878.0</td>\n",
       "      <td>1983</td>\n",
       "      <td>True</td>\n",
       "      <td>896878.0</td>\n",
       "      <td>INTUIT INC</td>\n",
       "    </tr>\n",
       "    <tr>\n",
       "      <th>...</th>\n",
       "      <td>...</td>\n",
       "      <td>...</td>\n",
       "      <td>...</td>\n",
       "      <td>...</td>\n",
       "      <td>...</td>\n",
       "      <td>...</td>\n",
       "      <td>...</td>\n",
       "      <td>...</td>\n",
       "      <td>...</td>\n",
       "      <td>...</td>\n",
       "    </tr>\n",
       "    <tr>\n",
       "      <th>1120</th>\n",
       "      <td>MEE</td>\n",
       "      <td>NaN</td>\n",
       "      <td>NaN</td>\n",
       "      <td>NaN</td>\n",
       "      <td>NaN</td>\n",
       "      <td>NaN</td>\n",
       "      <td>NaN</td>\n",
       "      <td>False</td>\n",
       "      <td>NaN</td>\n",
       "      <td>NaN</td>\n",
       "    </tr>\n",
       "    <tr>\n",
       "      <th>1121</th>\n",
       "      <td>RJF</td>\n",
       "      <td>Raymond James</td>\n",
       "      <td>Financials</td>\n",
       "      <td>Investment Banking &amp; Brokerage</td>\n",
       "      <td>St. Petersburg, Florida</td>\n",
       "      <td>720005.0</td>\n",
       "      <td>1962</td>\n",
       "      <td>True</td>\n",
       "      <td>720005.0</td>\n",
       "      <td>RAYMOND JAMES FINANCIAL INC</td>\n",
       "    </tr>\n",
       "    <tr>\n",
       "      <th>1122</th>\n",
       "      <td>TMUS</td>\n",
       "      <td>T-Mobile</td>\n",
       "      <td>Communication Services</td>\n",
       "      <td>Wireless Telecommunication Services</td>\n",
       "      <td>Bellevue, Washington</td>\n",
       "      <td>1283699.0</td>\n",
       "      <td>1994</td>\n",
       "      <td>True</td>\n",
       "      <td>1283699.0</td>\n",
       "      <td>T-Mobile US, Inc.</td>\n",
       "    </tr>\n",
       "    <tr>\n",
       "      <th>1123</th>\n",
       "      <td>SDS</td>\n",
       "      <td>NaN</td>\n",
       "      <td>NaN</td>\n",
       "      <td>NaN</td>\n",
       "      <td>NaN</td>\n",
       "      <td>NaN</td>\n",
       "      <td>NaN</td>\n",
       "      <td>False</td>\n",
       "      <td>NaN</td>\n",
       "      <td>NaN</td>\n",
       "    </tr>\n",
       "    <tr>\n",
       "      <th>1124</th>\n",
       "      <td>BT</td>\n",
       "      <td>NaN</td>\n",
       "      <td>NaN</td>\n",
       "      <td>NaN</td>\n",
       "      <td>NaN</td>\n",
       "      <td>NaN</td>\n",
       "      <td>NaN</td>\n",
       "      <td>False</td>\n",
       "      <td>NaN</td>\n",
       "      <td>NaN</td>\n",
       "    </tr>\n",
       "  </tbody>\n",
       "</table>\n",
       "<p>1125 rows × 10 columns</p>\n",
       "</div>"
      ],
      "text/plain": [
       "     symbol               name                  sector  \\\n",
       "0         S  SentinelOne, Inc.                     NaN   \n",
       "1       AHM                NaN                     NaN   \n",
       "2      ANDW                NaN                     NaN   \n",
       "3      FSLR  FIRST SOLAR, INC.                     NaN   \n",
       "4      INTU             Intuit  Information Technology   \n",
       "...     ...                ...                     ...   \n",
       "1120    MEE                NaN                     NaN   \n",
       "1121    RJF      Raymond James              Financials   \n",
       "1122   TMUS           T-Mobile  Communication Services   \n",
       "1123    SDS                NaN                     NaN   \n",
       "1124     BT                NaN                     NaN   \n",
       "\n",
       "                                subSector                         hQ  \\\n",
       "0                                     NaN                        NaN   \n",
       "1                                     NaN                        NaN   \n",
       "2                                     NaN                        NaN   \n",
       "3                                     NaN                        NaN   \n",
       "4                    Application Software  Mountain View, California   \n",
       "...                                   ...                        ...   \n",
       "1120                                  NaN                        NaN   \n",
       "1121       Investment Banking & Brokerage    St. Petersburg, Florida   \n",
       "1122  Wireless Telecommunication Services       Bellevue, Washington   \n",
       "1123                                  NaN                        NaN   \n",
       "1124                                  NaN                        NaN   \n",
       "\n",
       "            cik founded  currentConstituent  cik_sec_list  \\\n",
       "0     1583708.0     NaN               False     1583708.0   \n",
       "1           NaN     NaN               False           NaN   \n",
       "2           NaN     NaN               False           NaN   \n",
       "3     1274494.0     NaN               False     1274494.0   \n",
       "4      896878.0    1983                True      896878.0   \n",
       "...         ...     ...                 ...           ...   \n",
       "1120        NaN     NaN               False           NaN   \n",
       "1121   720005.0    1962                True      720005.0   \n",
       "1122  1283699.0    1994                True     1283699.0   \n",
       "1123        NaN     NaN               False           NaN   \n",
       "1124        NaN     NaN               False           NaN   \n",
       "\n",
       "                            title  \n",
       "0               SentinelOne, Inc.  \n",
       "1                             NaN  \n",
       "2                             NaN  \n",
       "3               FIRST SOLAR, INC.  \n",
       "4                      INTUIT INC  \n",
       "...                           ...  \n",
       "1120                          NaN  \n",
       "1121  RAYMOND JAMES FINANCIAL INC  \n",
       "1122            T-Mobile US, Inc.  \n",
       "1123                          NaN  \n",
       "1124                          NaN  \n",
       "\n",
       "[1125 rows x 10 columns]"
      ]
     },
     "execution_count": 53,
     "metadata": {},
     "output_type": "execute_result"
    }
   ],
   "source": [
    "companies"
   ]
  },
  {
   "cell_type": "code",
   "execution_count": null,
   "id": "c32176f3",
   "metadata": {},
   "outputs": [],
   "source": [
    "companies.to_csv('../data/preSQL/companies.csv', index=False)"
   ]
  },
  {
   "cell_type": "markdown",
   "id": "af7ef7c7",
   "metadata": {},
   "source": [
    "#### Table for historical constituents"
   ]
  },
  {
   "cell_type": "code",
   "execution_count": 34,
   "id": "a19ee1d2",
   "metadata": {},
   "outputs": [],
   "source": [
    "sp500_stays = pd.DataFrame(columns=['symbol', 'added', 'removed'])\n",
    "# iterate over the list of tickers for every day and\n",
    "previous_set=set()\n",
    "for date, list_tickers in spts.set_index('date').tickers_filtered.items():\n",
    "    # for the first iteration there is no previous set\n",
    "    new_set = set(list_tickers)\n",
    "    # check which values from the list of values was not in the previous date\n",
    "    diff_new = new_set-previous_set\n",
    "    # for each value in diff_new\n",
    "    for diff_ticker in diff_new:\n",
    "        if diff_ticker in new_set:\n",
    "            # the ticker has been added\n",
    "            new_row_index = 0 if len(sp500_stays) == 0 else sp500_stays.index.max()+1\n",
    "            new_row_data={\n",
    "                'symbol': diff_ticker,\n",
    "                'added': date,\n",
    "                'removed': 'not_yet_removed',\n",
    "                }\n",
    "            new_row = pd.DataFrame(data = new_row_data, index=[new_row_index])\n",
    "            sp500_stays = pd.concat([sp500_stays, new_row], axis=0)\n",
    "    diff_old = previous_set-new_set\n",
    "    for diff_ticker in diff_old:\n",
    "        if diff_ticker in previous_set:\n",
    "            # the ticker has been removed\n",
    "            # get the index of the last occurence of the ticker in the dataframe\n",
    "            mask = sp500_stays.symbol == diff_ticker\n",
    "            idx = sp500_stays[mask].index.max()\n",
    "            # update that index with the date removed\n",
    "            sp500_stays.loc[idx, 'removed'] = date\n",
    "    # this iteration ends, the new set becomes obsolete\n",
    "    previous_set = new_set.copy()"
   ]
  },
  {
   "cell_type": "markdown",
   "id": "42d40f2f",
   "metadata": {},
   "source": [
    "to .csv"
   ]
  },
  {
   "cell_type": "code",
   "execution_count": 45,
   "id": "e872e3ae",
   "metadata": {},
   "outputs": [],
   "source": [
    "sp500_stays.to_csv('../data/clean/sp500_movements.csv', index=False)"
   ]
  },
  {
   "cell_type": "markdown",
   "id": "430c0793",
   "metadata": {},
   "source": [
    "#### Aditional Cleaning Steps"
   ]
  },
  {
   "cell_type": "markdown",
   "id": "0d27657b",
   "metadata": {},
   "source": [
    "## SEC submissions\n",
    "Submissions from SEC\n",
    "- 10-KA/405A and 10QA are text amendments which contain no financial information. <a href=\"https://www.sec.gov/Archives/edgar/data/320193/0001047469-98-001822.txt\">example</a>\n",
    "- NT 10-Q and NT 10-K are notifications about delay in statements\n",
    "- 10KT and 10QT dennote transition in companies which alter fiscal years. Usually after merger of acquisitions"
   ]
  },
  {
   "cell_type": "code",
   "execution_count": null,
   "id": "1587c18d",
   "metadata": {},
   "outputs": [],
   "source": [
    "submissions=pd.read_csv('.././data/raw/submissions.csv')\n",
    "sub_cols = [\n",
    "    'filingDate',\n",
    "    'reportDate',\n",
    "    'symbol',\n",
    "    'cik',\n",
    "    'form',\n",
    "    ]\n",
    "sec = submissions.loc[:,sub_cols]\n",
    "mask = sec.form.isin(['10-K', '10-Q', '10-K405', '10-KT', '10-QT'])\n",
    "sec = sec[mask]"
   ]
  },
  {
   "cell_type": "markdown",
   "id": "0d328879",
   "metadata": {},
   "source": [
    "## FRED Series\n",
    "- Inflation\n",
    "- GDP"
   ]
  },
  {
   "cell_type": "markdown",
   "id": "2d6871aa",
   "metadata": {},
   "source": [
    "### Inflation (CorePCE)"
   ]
  },
  {
   "cell_type": "code",
   "execution_count": 162,
   "id": "d8eda034",
   "metadata": {},
   "outputs": [],
   "source": [
    "# read inflation csv\n",
    "inflation = pd.read_csv('../data/raw/fred/corePCE.csv').convert_dtypes()\n",
    "# get last date\n",
    "last_date = inflation.date.idxmax()\n",
    "# get the coefficient of that date\n",
    "today_inflation = inflation.loc[last_date, 'corePCE']\n",
    "# calculate multiplier\n",
    "inflation['inflationMultiplier'] = today_inflation/inflation.corePCE\n",
    "# export csv\n",
    "inflation.to_csv('../data/preSQL/inflation.csv', index=False)"
   ]
  },
  {
   "cell_type": "markdown",
   "id": "7eb73497",
   "metadata": {},
   "source": [
    "## 10-K Statements\n",
    "- Balance Sheet, Cash Flow and Income Statements"
   ]
  },
  {
   "cell_type": "markdown",
   "id": "4107806a",
   "metadata": {},
   "source": [
    "#### Walk the path in a directory and generate the dataframe.\n",
    "- We're only interested in dates when the symbol belonged to the sp500\n",
    "- Risk: get the past value of a current ticker instead of getting the values of a former ticker at that time.  "
   ]
  },
  {
   "cell_type": "code",
   "execution_count": 105,
   "id": "cdae054c",
   "metadata": {},
   "outputs": [],
   "source": [
    "def merge_csv(path):\n",
    "    df_list = []\n",
    "    path_dir = Path(path)\n",
    "    sp500_dates = pd.read_csv('../data/raw/sp500_movements.csv')\n",
    "    sp500_dates.removed = sp500_dates.removed.replace('not_yet_removed', '2022-12-31')\n",
    "    sp500_dates.added = pd.to_datetime(sp500_dates.added)\n",
    "    sp500_dates.removed = pd.to_datetime(sp500_dates.removed)\n",
    "    for file in path_dir.glob('*.csv'):\n",
    "        csv_path = os.path.join(file.parent, file.name)\n",
    "        df = pd.read_csv(csv_path)\n",
    "        # convert fillingDates to datetime\n",
    "        df.fillingDate = pd.to_datetime(df.fillingDate)\n",
    "        # keep only the the combinations of symbol and date which belonged to the sp500\n",
    "        mask = sp500_dates.symbol == file.name.split('.')[0]\n",
    "        added = sp500_dates[mask].added\n",
    "        removed = sp500_dates[mask].removed\n",
    "        for stay in tuple(zip(added, removed)):\n",
    "            df_list.append(df[df.fillingDate.between(stay[0], stay[1])])\n",
    "    return pd.concat(df_list)"
   ]
  },
  {
   "cell_type": "code",
   "execution_count": 107,
   "id": "bf4a29f3",
   "metadata": {},
   "outputs": [],
   "source": [
    "def do_merge():\n",
    "    balance = merge_csv('../data/raw/balance')\n",
    "    balance.to_csv('../data/raw/balance.csv', index=False)\n",
    "    print(balance.shape)\n",
    "\n",
    "    cash_flow = merge_csv('../data/raw/cash_flow')\n",
    "    cash_flow.to_csv('../data/raw/cash_flow.csv', index=False)\n",
    "    print(cash_flow.shape)\n",
    "\n",
    "    income = merge_csv('../data/raw/income')\n",
    "    income.to_csv('../data/raw/income.csv', index=False)\n",
    "    print(income.shape)"
   ]
  },
  {
   "cell_type": "code",
   "execution_count": 108,
   "id": "c809ba09",
   "metadata": {},
   "outputs": [
    {
     "name": "stdout",
     "output_type": "stream",
     "text": [
      "(10179, 54)\n",
      "(10309, 40)\n",
      "(10328, 38)\n"
     ]
    }
   ],
   "source": [
    "# do_merge()"
   ]
  },
  {
   "cell_type": "markdown",
   "id": "7003cc8a",
   "metadata": {},
   "source": [
    "### Table for the join of all the historical financial statements in the SP500\n",
    "- Generate the primary keys\n",
    "- Clean the primary keys: symbol + year"
   ]
  },
  {
   "cell_type": "markdown",
   "id": "02320897",
   "metadata": {},
   "source": [
    "#### Generate the primary keys of symbol, year"
   ]
  },
  {
   "cell_type": "code",
   "execution_count": 16,
   "id": "f772a7b1",
   "metadata": {},
   "outputs": [],
   "source": [
    "sp500_dates = pd.read_csv('../data/raw/sp500_movements.csv')\n",
    "sp500_dates.removed = sp500_dates.removed.replace('not_yet_removed', '2022-12-31')\n",
    "sp500_dates.added = pd.to_datetime(sp500_dates.added).dt.year\n",
    "sp500_dates.removed = pd.to_datetime(sp500_dates.removed).dt.year"
   ]
  },
  {
   "cell_type": "code",
   "execution_count": 17,
   "id": "56852c80",
   "metadata": {},
   "outputs": [],
   "source": [
    "indices = []\n",
    "for ticker in sp500_dates.symbol.unique():\n",
    "    mask = sp500_dates.symbol == ticker \n",
    "    added = sp500_dates[mask].added\n",
    "    removed = sp500_dates[mask].removed\n",
    "    for stay in tuple(zip(added, removed)):\n",
    "        # convert to years and generate their sequence\n",
    "        yearlist = list(range(stay[0], stay[1])) # get two years prior for increases\n",
    "        for y in yearlist:\n",
    "            indices.append((ticker, y)) "
   ]
  },
  {
   "cell_type": "code",
   "execution_count": 18,
   "id": "9318d59b",
   "metadata": {},
   "outputs": [],
   "source": [
    "statements = pd.DataFrame(index = set(indices)).reset_index()\n",
    "statements.columns = ['symbol', 'calendarYear']"
   ]
  },
  {
   "cell_type": "markdown",
   "id": "91a0dd32",
   "metadata": {},
   "source": [
    "#### Left join with balance, cash flow and income statements"
   ]
  },
  {
   "cell_type": "code",
   "execution_count": 19,
   "id": "f9e33f65",
   "metadata": {},
   "outputs": [],
   "source": [
    "balance = pd.read_csv('../data/raw/balance.csv')\n",
    "cash_flow = pd.read_csv('../data/raw/cash_flow.csv')\n",
    "income = pd.read_csv('../data/raw/income.csv')"
   ]
  },
  {
   "cell_type": "code",
   "execution_count": 20,
   "id": "6ccbcb3c",
   "metadata": {},
   "outputs": [],
   "source": [
    "statements = statements.merge(right = balance, on = ['symbol', 'calendarYear'], how='left')"
   ]
  },
  {
   "cell_type": "code",
   "execution_count": 21,
   "id": "c9afcb5d",
   "metadata": {},
   "outputs": [],
   "source": [
    "statements = statements.merge(right = income, on = ['symbol', 'calendarYear'], how='left')\n",
    "statements = statements.merge(right = cash_flow, on = ['symbol', 'calendarYear'], how='left')"
   ]
  },
  {
   "cell_type": "code",
   "execution_count": 22,
   "id": "f037f433",
   "metadata": {},
   "outputs": [],
   "source": [
    "statements.to_csv('../data/raw/statements.csv', index= False)"
   ]
  },
  {
   "cell_type": "markdown",
   "id": "e7035433",
   "metadata": {},
   "source": [
    "#### Drop duplicated columns"
   ]
  },
  {
   "cell_type": "code",
   "execution_count": 23,
   "id": "f037f433",
   "metadata": {},
   "outputs": [
    {
     "data": {
      "text/plain": [
       "(12985, 128)"
      ]
     },
     "execution_count": 23,
     "metadata": {},
     "output_type": "execute_result"
    }
   ],
   "source": [
    "statements = pd.read_csv('../data/raw/statements.csv')\n",
    "statements.shape"
   ]
  },
  {
   "cell_type": "code",
   "execution_count": 24,
   "id": "4f8a2e52",
   "metadata": {},
   "outputs": [
    {
     "data": {
      "text/plain": [
       "(12985, 109)"
      ]
     },
     "execution_count": 24,
     "metadata": {},
     "output_type": "execute_result"
    }
   ],
   "source": [
    "repeated = [\n",
    "    ['date','date_x','date_y'],\n",
    "    ['acceptedDate','acceptedDate_x','acceptedDate_y'],\n",
    "    ['cik','cik_x','cik_y'],\n",
    "    ['depreciationAndAmortization_x','depreciationAndAmortization_y'],\n",
    "    ['fillingDate', 'fillingDate_x','fillingDate_y'],\n",
    "    ['finalLink','finalLink_x','finalLink_y'],\n",
    "    ['inventory_x','inventory_y'],\n",
    "    ['link','link_x','link_y'],\n",
    "    ['netIncome_x','netIncome_y'],\n",
    "    ['period','period_x','period_y'],\n",
    "    ['reportedCurrency','reportedCurrency_x','reportedCurrency_y',]\n",
    "]\n",
    "for group in repeated:\n",
    "    base_feature = group[0]\n",
    "    for dup_feature in group[1:]:\n",
    "        statements[base_feature] = statements[base_feature].fillna(statements[dup_feature])\n",
    "        statements = statements.drop(columns=dup_feature)    \n",
    "statements.shape"
   ]
  },
  {
   "cell_type": "code",
   "execution_count": 25,
   "id": "d5ee36d3",
   "metadata": {},
   "outputs": [],
   "source": [
    "col_rename = {\n",
    "    'depreciationAndAmortization_x': 'depreciationAndAmortization',\n",
    "    'inventory_x': 'inventory',\n",
    "    'netIncome_x': 'netIncome',\n",
    "}\n",
    "statements = statements.rename(columns=col_rename)"
   ]
  },
  {
   "cell_type": "markdown",
   "id": "c9379f69",
   "metadata": {},
   "source": [
    "#### Convert to billions and adjust for inflation"
   ]
  },
  {
   "cell_type": "code",
   "execution_count": 26,
   "id": "450caacf",
   "metadata": {},
   "outputs": [],
   "source": [
    "# convert to billions\n",
    "for feat in to_billions_features:\n",
    "    statements[feat] = statements[feat].astype(float)/1e9\n",
    "# sort values\n",
    "statements = statements.sort_values(by=['symbol', 'calendarYear'])"
   ]
  },
  {
   "cell_type": "markdown",
   "id": "bd5d97d7",
   "metadata": {},
   "source": [
    "Adjust for inflation"
   ]
  },
  {
   "cell_type": "code",
   "execution_count": 27,
   "id": "5bbcd70c",
   "metadata": {},
   "outputs": [
    {
     "name": "stderr",
     "output_type": "stream",
     "text": [
      "C:\\Users\\fpala\\AppData\\Local\\Temp\\ipykernel_24696\\2507109666.py:2: PerformanceWarning: DataFrame is highly fragmented.  This is usually the result of calling `frame.insert` many times, which has poor performance.  Consider joining all columns at once using pd.concat(axis=1) instead. To get a de-fragmented frame, use `newframe = frame.copy()`\n",
      "  statements['month'] = statements['date'].dt.month\n"
     ]
    }
   ],
   "source": [
    "statements['date'] = pd.to_datetime(statements['date'])\n",
    "statements['month'] = statements['date'].dt.month\n",
    "inflation = pd.read_csv('../data/clean/inflation.csv')\n",
    "inflation = inflation.rename(columns={'year':'calendarYear'})\n",
    "statements = statements.merge(\n",
    "    right = inflation.loc[:,['calendarYear','month','inflationMultiplier']],\n",
    "    how='left', \n",
    "    left_on=['calendarYear', 'month'], \n",
    "    right_on = ['calendarYear', 'month'])"
   ]
  },
  {
   "cell_type": "code",
   "execution_count": 28,
   "id": "2e20a27e",
   "metadata": {},
   "outputs": [],
   "source": [
    "for feat in to_billions_features:\n",
    "    statements[feat] = statements[feat] * statements.inflationMultiplier"
   ]
  },
  {
   "cell_type": "code",
   "execution_count": 29,
   "id": "e1fd9886",
   "metadata": {},
   "outputs": [],
   "source": [
    "statements.to_csv('../data/clean/statements.csv', index=False)"
   ]
  },
  {
   "cell_type": "markdown",
   "id": "aadc4d94",
   "metadata": {},
   "source": [
    "## Market Capitalization"
   ]
  },
  {
   "cell_type": "markdown",
   "id": "c0bb6d79",
   "metadata": {},
   "source": [
    "#### Target variable. Join with the statements dataframe on filingDate + 10 days"
   ]
  },
  {
   "cell_type": "code",
   "execution_count": 4,
   "id": "40e54196",
   "metadata": {},
   "outputs": [],
   "source": [
    "statements = pd.read_csv('../data/clean/statements.csv')\n",
    "filldate_mask = statements.fillingDate.notnull()\n",
    "symbols = statements[filldate_mask].symbol.unique()\n",
    "# add 10 days to let the price stabilize\n",
    "statements['mcapDate'] = pd.to_datetime(statements.fillingDate) + datetime.timedelta(10)\n",
    "# extract year and week from that date\n",
    "statements['mcapYear'] = statements.mcapDate.dt.year\n",
    "statements['mcapWeek'] = statements.mcapDate.dt.isocalendar().week\n",
    "# createa target column\n",
    "statements['target'] = np.nan "
   ]
  },
  {
   "cell_type": "code",
   "execution_count": 5,
   "id": "a2c59880",
   "metadata": {},
   "outputs": [],
   "source": [
    "for ticker in symbols:\n",
    "    # open the market caps dataframe\n",
    "    try:\n",
    "        df = pd.read_csv('../data/raw/marketCaps/{}.csv'.format(ticker)).sort_values(by='date').reset_index(drop='True')\n",
    "    except:\n",
    "        continue\n",
    "    # convert market cap to billions\n",
    "    df.marketCap = df.marketCap/1e9\n",
    "    # exctract year and week\n",
    "    df.date = pd.to_datetime(df.date)\n",
    "    df['mcapYear'] = df.date.dt.year\n",
    "    df['mcapWeek'] = df.date.dt.isocalendar().week\n",
    "    df['marketCapSMA10'] = df.marketCap.rolling(10).mean()\n",
    "    df = df.rename(columns={'date':'mcapDate'})\n",
    "    df.to_csv('../data/raw/marketCaps/{}_clean.csv'.format(ticker), index=False)\n",
    "    # attempt o left join on statements on mcapDdate \n",
    "    statements = statements.merge(\n",
    "        right=df.loc[:,['symbol','mcapDate','marketCapSMA10']],\n",
    "        on = ['symbol', 'mcapDate'],\n",
    "        how='left'\n",
    "    )\n",
    "    # update values and drop column\n",
    "    statements.target = statements.target.fillna(statements.marketCapSMA10)\n",
    "    statements = statements.drop(columns='marketCapSMA10')\n",
    "    # join again on mcapYear and mcapYeek in case the date does not exist\n",
    "    statements = statements.merge(\n",
    "            right=df.groupby(['symbol','mcapYear', 'mcapWeek']).marketCapSMA10.mean(),\n",
    "            on = ['symbol', 'mcapYear', 'mcapWeek'],\n",
    "            how='left'\n",
    "    )\n",
    "    # update values and drop column\n",
    "    statements.target = statements.target.fillna(statements.marketCapSMA10)\n",
    "    statements = statements.drop(columns='marketCapSMA10')"
   ]
  },
  {
   "cell_type": "markdown",
   "id": "cb22e050",
   "metadata": {},
   "source": [
    "Adjust inflation"
   ]
  },
  {
   "cell_type": "code",
   "execution_count": 34,
   "id": "e7a911bb",
   "metadata": {},
   "outputs": [],
   "source": [
    "statements.target = statements.inflationMultiplier * statements.target"
   ]
  },
  {
   "cell_type": "code",
   "execution_count": 35,
   "id": "9146900a",
   "metadata": {},
   "outputs": [],
   "source": [
    "statements.to_csv('../data/clean/statements_mcap.csv', index= False)"
   ]
  },
  {
   "cell_type": "markdown",
   "id": "d2d35b5d",
   "metadata": {},
   "source": [
    "#### Aditional Cleaning"
   ]
  },
  {
   "cell_type": "markdown",
   "id": "955d7ec9",
   "metadata": {},
   "source": [
    "# Null Cleaning"
   ]
  },
  {
   "cell_type": "code",
   "execution_count": 57,
   "id": "23a7079a",
   "metadata": {},
   "outputs": [
    {
     "data": {
      "text/plain": [
       "(12985, 115)"
      ]
     },
     "execution_count": 57,
     "metadata": {},
     "output_type": "execute_result"
    }
   ],
   "source": [
    "data = pd.read_csv('../data/clean/statements_mcap.csv')\n",
    "data.shape"
   ]
  },
  {
   "cell_type": "markdown",
   "id": "6e7a58b8",
   "metadata": {},
   "source": [
    "#### Drop all rows with null target"
   ]
  },
  {
   "cell_type": "code",
   "execution_count": 58,
   "id": "d917a080",
   "metadata": {},
   "outputs": [
    {
     "data": {
      "text/plain": [
       "link                                     0.197290\n",
       "finalLink                                0.197290\n",
       "cik                                      0.032517\n",
       "totalLiabilitiesAndStockholdersEquity    0.010943\n",
       "retainedEarnings                         0.010943\n",
       "dtype: float64"
      ]
     },
     "execution_count": 58,
     "metadata": {},
     "output_type": "execute_result"
    }
   ],
   "source": [
    "cols = ['target']\n",
    "data = data.dropna(subset=cols)\n",
    "(data.isna().sum() / len(data)).sort_values(ascending=False).head(5)"
   ]
  },
  {
   "cell_type": "code",
   "execution_count": 59,
   "id": "e4ba991b",
   "metadata": {},
   "outputs": [
    {
     "data": {
      "text/plain": [
       "(9595, 115)"
      ]
     },
     "execution_count": 59,
     "metadata": {},
     "output_type": "execute_result"
    }
   ],
   "source": [
    "data.shape"
   ]
  },
  {
   "cell_type": "markdown",
   "id": "f41bb0d1",
   "metadata": {},
   "source": [
    "#### Duplicates clean"
   ]
  },
  {
   "cell_type": "code",
   "execution_count": 60,
   "id": "96769527",
   "metadata": {},
   "outputs": [],
   "source": [
    "data = data.drop_duplicates(subset=['symbol', 'calendarYear'], keep='first')"
   ]
  },
  {
   "cell_type": "code",
   "execution_count": 61,
   "id": "3a62b98e",
   "metadata": {},
   "outputs": [
    {
     "data": {
      "text/html": [
       "<div>\n",
       "<style scoped>\n",
       "    .dataframe tbody tr th:only-of-type {\n",
       "        vertical-align: middle;\n",
       "    }\n",
       "\n",
       "    .dataframe tbody tr th {\n",
       "        vertical-align: top;\n",
       "    }\n",
       "\n",
       "    .dataframe thead th {\n",
       "        text-align: right;\n",
       "    }\n",
       "</style>\n",
       "<table border=\"1\" class=\"dataframe\">\n",
       "  <thead>\n",
       "    <tr style=\"text-align: right;\">\n",
       "      <th></th>\n",
       "      <th>symbol</th>\n",
       "      <th>calendarYear</th>\n",
       "      <th>date</th>\n",
       "      <th>fillingDate</th>\n",
       "    </tr>\n",
       "  </thead>\n",
       "  <tbody>\n",
       "  </tbody>\n",
       "</table>\n",
       "</div>"
      ],
      "text/plain": [
       "Empty DataFrame\n",
       "Columns: [symbol, calendarYear, date, fillingDate]\n",
       "Index: []"
      ]
     },
     "execution_count": 61,
     "metadata": {},
     "output_type": "execute_result"
    }
   ],
   "source": [
    "mask =data.duplicated(subset=['symbol', 'calendarYear'], keep=False)\n",
    "data[mask].sort_values(by='date').loc[:, ['symbol', 'calendarYear', 'date', 'fillingDate']]"
   ]
  },
  {
   "cell_type": "markdown",
   "id": "27c5ce69",
   "metadata": {},
   "source": [
    "# Incorrect observations clean"
   ]
  },
  {
   "cell_type": "code",
   "execution_count": 62,
   "id": "e517e51d",
   "metadata": {},
   "outputs": [],
   "source": [
    "def drop_rows(data, symbol, dates_inclusive):\n",
    "    drop_mask = (data.symbol == symbol) & data.calendarYear.between(dates_inclusive[0], dates_inclusive[1])\n",
    "    idx_drop = data[drop_mask].index\n",
    "    return data.drop(index=idx_drop)"
   ]
  },
  {
   "cell_type": "code",
   "execution_count": 63,
   "id": "bc13f6ea",
   "metadata": {},
   "outputs": [],
   "source": [
    "mask = data.symbol == 'NBR'\n",
    "data.loc[mask, 'target'] = data.loc[mask, 'target']/100"
   ]
  },
  {
   "cell_type": "code",
   "execution_count": 64,
   "id": "00d0d761",
   "metadata": {},
   "outputs": [],
   "source": [
    "data = drop_rows(data, 'MBI', [2002,2008])\n",
    "data = drop_rows(data, 'SLM', [2004,2013])\n",
    "data = drop_rows(data, 'STI', [2002,2009])\n",
    "data = drop_rows(data, 'CHK', [2006,2017])\n",
    "data = drop_rows(data, 'SIG', [2016,2016])\n",
    "data = drop_rows(data, 'SYMC', [2010,2010])\n",
    "data = drop_rows(data, 'THC', [2002,2002])\n",
    "data = drop_rows(data, 'CBS', [2005,2012])\n",
    "data = drop_rows(data, 'SUN', [2010,2011])\n",
    "data = drop_rows(data, 'TT', [2002,2007])\n",
    "data = drop_rows(data, 'KMG', [1999,2005])\n",
    "data = drop_rows(data, 'MO', [1996,2007])\n",
    "data = drop_rows(data, 'GILD', [2013,2014])"
   ]
  },
  {
   "cell_type": "code",
   "execution_count": 65,
   "id": "ba5e6387",
   "metadata": {},
   "outputs": [
    {
     "data": {
      "text/plain": [
       "(9492, 115)"
      ]
     },
     "execution_count": 65,
     "metadata": {},
     "output_type": "execute_result"
    }
   ],
   "source": [
    "data.shape"
   ]
  },
  {
   "cell_type": "code",
   "execution_count": 66,
   "id": "7e0d70b5",
   "metadata": {},
   "outputs": [],
   "source": [
    "data.to_csv('../data/processed/data.csv', index=False)"
   ]
  },
  {
   "cell_type": "markdown",
   "id": "37c538b6",
   "metadata": {},
   "source": [
    "## Economic Situation Table"
   ]
  },
  {
   "cell_type": "code",
   "execution_count": 48,
   "id": "5866cf40",
   "metadata": {},
   "outputs": [],
   "source": [
    "path_dir = Path('../data/raw/fred')\n",
    "for i, file in enumerate(path_dir.glob('*.csv')):\n",
    "    csv_path = os.path.join(file.parent, file.name)\n",
    "    df = pd.read_csv(csv_path)\n",
    "    if i == 0:\n",
    "        fred = df.copy()\n",
    "    else:\n",
    "        fred = fred.merge(df, on=['date', 'year', 'month', 'day'], how = 'outer')"
   ]
  },
  {
   "cell_type": "code",
   "execution_count": 49,
   "id": "c6015852",
   "metadata": {},
   "outputs": [],
   "source": [
    "fred.date = pd.to_datetime(fred.date)\n",
    "fred = fred.set_index('date').sort_index()"
   ]
  },
  {
   "cell_type": "code",
   "execution_count": 54,
   "id": "2d05b88b",
   "metadata": {},
   "outputs": [
    {
     "data": {
      "text/plain": [
       "Timestamp('2022-04-19 00:00:00')"
      ]
     },
     "execution_count": 54,
     "metadata": {},
     "output_type": "execute_result"
    }
   ],
   "source": [
    "fred.index.max()"
   ]
  },
  {
   "cell_type": "code",
   "execution_count": 56,
   "id": "2e82f85c",
   "metadata": {},
   "outputs": [],
   "source": [
    "idx = pd.date_range('01-01-1991', '2022-04-19')\n",
    "fred = fred.reindex(idx)"
   ]
  },
  {
   "cell_type": "code",
   "execution_count": 61,
   "id": "0c882a5e",
   "metadata": {},
   "outputs": [],
   "source": [
    "fred = fred.interpolate()\n",
    "fred.to_csv('../data/clean/fred.csv')"
   ]
  },
  {
   "cell_type": "markdown",
   "id": "5d8a5265",
   "metadata": {},
   "source": [
    "## join with market caps"
   ]
  },
  {
   "cell_type": "code",
   "execution_count": 74,
   "id": "7fe78fbe",
   "metadata": {},
   "outputs": [],
   "source": [
    "data = pd.read_csv('../data/processed/data.csv')"
   ]
  },
  {
   "cell_type": "code",
   "execution_count": 75,
   "id": "2b312ea3",
   "metadata": {},
   "outputs": [],
   "source": [
    "data.fillingDate = pd.to_datetime(data.fillingDate)\n",
    "data = data.merge(\n",
    "    fred.drop(columns = ['year', 'month', 'day']),\n",
    "    how = 'left',\n",
    "    left_on='fillingDate',\n",
    "    right_index=True\n",
    ")"
   ]
  },
  {
   "cell_type": "code",
   "execution_count": 76,
   "id": "22837936",
   "metadata": {},
   "outputs": [],
   "source": [
    "data.to_csv('../data/processed/data.csv', index=False)"
   ]
  },
  {
   "cell_type": "code",
   "execution_count": 79,
   "id": "1d3c6922",
   "metadata": {},
   "outputs": [
    {
     "data": {
      "text/plain": [
       "['symbol',\n",
       " 'calendarYear',\n",
       " 'cashAndCashEquivalents',\n",
       " 'shortTermInvestments',\n",
       " 'cashAndShortTermInvestments',\n",
       " 'netReceivables',\n",
       " 'inventory',\n",
       " 'otherCurrentAssets',\n",
       " 'totalCurrentAssets',\n",
       " 'propertyPlantEquipmentNet',\n",
       " 'goodwill',\n",
       " 'intangibleAssets',\n",
       " 'goodwillAndIntangibleAssets',\n",
       " 'longTermInvestments',\n",
       " 'taxAssets',\n",
       " 'otherNonCurrentAssets',\n",
       " 'totalNonCurrentAssets',\n",
       " 'otherAssets',\n",
       " 'totalAssets',\n",
       " 'accountPayables',\n",
       " 'shortTermDebt',\n",
       " 'taxPayables',\n",
       " 'deferredRevenue',\n",
       " 'otherCurrentLiabilities',\n",
       " 'totalCurrentLiabilities',\n",
       " 'longTermDebt',\n",
       " 'deferredRevenueNonCurrent',\n",
       " 'deferredTaxLiabilitiesNonCurrent',\n",
       " 'otherNonCurrentLiabilities',\n",
       " 'totalNonCurrentLiabilities',\n",
       " 'otherLiabilities',\n",
       " 'capitalLeaseObligations',\n",
       " 'totalLiabilities',\n",
       " 'preferredStock',\n",
       " 'commonStock',\n",
       " 'retainedEarnings',\n",
       " 'accumulatedOtherComprehensiveIncomeLoss',\n",
       " 'othertotalStockholdersEquity',\n",
       " 'totalStockholdersEquity',\n",
       " 'totalLiabilitiesAndStockholdersEquity',\n",
       " 'minorityInterest',\n",
       " 'totalEquity',\n",
       " 'totalLiabilitiesAndTotalEquity',\n",
       " 'totalInvestments',\n",
       " 'totalDebt',\n",
       " 'netDebt',\n",
       " 'revenue',\n",
       " 'costOfRevenue',\n",
       " 'grossProfit',\n",
       " 'grossProfitRatio',\n",
       " 'researchAndDevelopmentExpenses',\n",
       " 'generalAndAdministrativeExpenses',\n",
       " 'sellingAndMarketingExpenses',\n",
       " 'sellingGeneralAndAdministrativeExpenses',\n",
       " 'otherExpenses',\n",
       " 'operatingExpenses',\n",
       " 'costAndExpenses',\n",
       " 'interestIncome',\n",
       " 'interestExpense',\n",
       " 'depreciationAndAmortization',\n",
       " 'ebitda',\n",
       " 'ebitdaratio',\n",
       " 'operatingIncome',\n",
       " 'operatingIncomeRatio',\n",
       " 'totalOtherIncomeExpensesNet',\n",
       " 'incomeBeforeTax',\n",
       " 'incomeBeforeTaxRatio',\n",
       " 'incomeTaxExpense',\n",
       " 'netIncome',\n",
       " 'netIncomeRatio',\n",
       " 'eps',\n",
       " 'epsdiluted',\n",
       " 'weightedAverageShsOut',\n",
       " 'weightedAverageShsOutDil',\n",
       " 'date',\n",
       " 'reportedCurrency',\n",
       " 'cik',\n",
       " 'fillingDate',\n",
       " 'acceptedDate',\n",
       " 'period',\n",
       " 'deferredIncomeTax',\n",
       " 'stockBasedCompensation',\n",
       " 'changeInWorkingCapital',\n",
       " 'accountsReceivables',\n",
       " 'accountsPayables',\n",
       " 'otherWorkingCapital',\n",
       " 'otherNonCashItems',\n",
       " 'netCashProvidedByOperatingActivities',\n",
       " 'investmentsInPropertyPlantAndEquipment',\n",
       " 'acquisitionsNet',\n",
       " 'purchasesOfInvestments',\n",
       " 'salesMaturitiesOfInvestments',\n",
       " 'otherInvestingActivites',\n",
       " 'netCashUsedForInvestingActivites',\n",
       " 'debtRepayment',\n",
       " 'commonStockIssued',\n",
       " 'commonStockRepurchased',\n",
       " 'dividendsPaid',\n",
       " 'otherFinancingActivites',\n",
       " 'netCashUsedProvidedByFinancingActivities',\n",
       " 'effectOfForexChangesOnCash',\n",
       " 'netChangeInCash',\n",
       " 'cashAtEndOfPeriod',\n",
       " 'cashAtBeginningOfPeriod',\n",
       " 'operatingCashFlow',\n",
       " 'capitalExpenditure',\n",
       " 'freeCashFlow',\n",
       " 'link',\n",
       " 'finalLink',\n",
       " 'month',\n",
       " 'inflationMultiplier',\n",
       " 'mcapDate',\n",
       " 'mcapYear',\n",
       " 'mcapWeek',\n",
       " 'target',\n",
       " 'brent',\n",
       " 'chicagoFedFinancialConditions',\n",
       " 'consumerSentiment',\n",
       " 'corePCE',\n",
       " 'GDP',\n",
       " 'interest10Y',\n",
       " 'interest10Y3M',\n",
       " 'interest10YIInflationAdjusted',\n",
       " 'interest20Y',\n",
       " 'interest3M',\n",
       " 'inventorySalesRatio',\n",
       " 'leadingIndex',\n",
       " 'monthlySupplyHouses',\n",
       " 'moodysAaa20Y',\n",
       " 'moodysBaa20Y',\n",
       " 'mortgage30Y',\n",
       " 'nasdaq',\n",
       " 'stlouisFredFinancialStress',\n",
       " 'unemployment',\n",
       " 'volatility',\n",
       " 'wilshire5000',\n",
       " 'wti']"
      ]
     },
     "execution_count": 79,
     "metadata": {},
     "output_type": "execute_result"
    }
   ],
   "source": [
    "data.columns.tolist()"
   ]
  },
  {
   "cell_type": "code",
   "execution_count": null,
   "id": "f41a8e46",
   "metadata": {},
   "outputs": [],
   "source": []
  }
 ],
 "metadata": {
  "interpreter": {
   "hash": "be08f86e6b13e365f4d773aabf156abf1afae915e0dbe247039c74fa85ebeb3e"
  },
  "kernelspec": {
   "display_name": "Python 3.8.10 64-bit",
   "language": "python",
   "name": "python3"
  },
  "language_info": {
   "codemirror_mode": {
    "name": "ipython",
    "version": 3
   },
   "file_extension": ".py",
   "mimetype": "text/x-python",
   "name": "python",
   "nbconvert_exporter": "python",
   "pygments_lexer": "ipython3",
   "version": "3.8.10"
  }
 },
 "nbformat": 4,
 "nbformat_minor": 5
}
