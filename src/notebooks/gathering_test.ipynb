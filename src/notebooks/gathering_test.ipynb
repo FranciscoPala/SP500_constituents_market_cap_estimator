{
 "cells": [
  {
   "cell_type": "code",
   "execution_count": 1,
   "metadata": {},
   "outputs": [],
   "source": [
    "import datetime\n",
    "import json\n",
    "import requests\n",
    "import sqlite3\n",
    "import time\n",
    "import pandas as pd\n",
    "from myfuncs import get_fred, call_fmp_api, get_submissions\n",
    "# for parsing fillings with bs4 (deployment)\n",
    "import secedgar \n",
    "from secedgar.cik_lookup import CIKLookup\n",
    "from secedgar.client import NetworkClient\n",
    "# event loop fix for jupyter notebooks\n",
    "import nest_asyncio\n",
    "nest_asyncio.apply()"
   ]
  },
  {
   "cell_type": "markdown",
   "metadata": {},
   "source": [
    "## Constituents"
   ]
  },
  {
   "cell_type": "code",
   "execution_count": 3,
   "metadata": {},
   "outputs": [],
   "source": [
    "def get_wikipedia_sp500():\n",
    "    \"\"\"Gets tables from wikipedia and \"\"\"\n",
    "    url = 'https://en.wikipedia.org/wiki/List_of_S%26P_500_companies'\n",
    "    data = pd.read_html(url)\n",
    "    data[0].to_csv('../data/raw/companies_wiki.csv', index=False)\n",
    "    data[1].to_csv('../data/raw/historical_companies_wiki.csv', index=False)\n",
    "    data = pd.read_csv('https://raw.githubusercontent.com/fja05680/sp500/master/S%26P%20500%20Historical%20Components%20%26%20Changes(03-14-2022).csv')\n",
    "    data.to_csv('../data/raw/historical_companies_TradingEvolved.csv', index=False)\n",
    "    return None"
   ]
  },
  {
   "cell_type": "markdown",
   "metadata": {},
   "source": [
    "### CIK SEC list"
   ]
  },
  {
   "cell_type": "markdown",
   "metadata": {},
   "source": [
    "Get from the .json url"
   ]
  },
  {
   "cell_type": "code",
   "execution_count": 6,
   "metadata": {},
   "outputs": [],
   "source": [
    "def get_sec_cik():\n",
    "    url = \"https://www.sec.gov/files/company_tickers.json\"\n",
    "    headers = {'User-Agent': 'Freelance data scientist calling the API for learning purposes. francisco.palab@gmail.com'}\n",
    "    r = requests.get(url, headers=headers)\n",
    "    df = pd.DataFrame(json.loads(r.content)).T\n",
    "    df.to_csv('.././data/raw/CIK.csv')\n",
    "    return None\n",
    "\n",
    "#get_sec_cik()"
   ]
  },
  {
   "cell_type": "markdown",
   "metadata": {},
   "source": [
    "When downloading the statements below some symbols do not return results. Attempting to infer their CIK from other sources"
   ]
  },
  {
   "cell_type": "code",
   "execution_count": 25,
   "metadata": {},
   "outputs": [
    {
     "name": "stderr",
     "output_type": "stream",
     "text": [
      "C:\\Users\\fpala\\AppData\\Local\\Programs\\Python\\Python38\\lib\\site-packages\\secedgar\\cik_lookup.py:138: UserWarning: Lookup 'Yahoo' will be skipped.\n",
      "                          Found multiple companies matching 'Yahoo':\n",
      "                          ALTABA INC.\n",
      "YAHOO INC\n",
      "Yahoo! Japan Corp\n",
      "Yahoo! Korea CORP\n",
      "  warnings.warn(warning_message)\n"
     ]
    },
    {
     "data": {
      "text/plain": [
       "{}"
      ]
     },
     "execution_count": 25,
     "metadata": {},
     "output_type": "execute_result"
    }
   ],
   "source": [
    "# from secedgar\n",
    "client = NetworkClient(user_agent=\"francisco pala (francisco.palab@gmail.com)\")\n",
    "lookups = CIKLookup(['Yahoo'], client = client, user_agent=\"francisco pala (francisco.palab@gmail.com)\")\n",
    "lookups.lookup_dict"
   ]
  },
  {
   "cell_type": "markdown",
   "metadata": {},
   "source": [
    "## Yearly Statements"
   ]
  },
  {
   "cell_type": "code",
   "execution_count": 16,
   "metadata": {},
   "outputs": [],
   "source": [
    "symbols = pd.read_csv('../data/clean/companies.csv').symbol"
   ]
  },
  {
   "cell_type": "markdown",
   "metadata": {},
   "source": [
    "#### Balance"
   ]
  },
  {
   "cell_type": "code",
   "execution_count": 17,
   "metadata": {},
   "outputs": [],
   "source": [
    "# call API\n",
    "for symbol in symbols:\n",
    "    # balance sheet endpoint\n",
    "    df = call_fmp_api(endpoint='balance_yearly', ticker=symbol, periods=30)\n",
    "    if len(df) != 0:\n",
    "        df.to_csv('.././data/raw/balance/{}.csv'.format(symbol),index = False)"
   ]
  },
  {
   "cell_type": "markdown",
   "metadata": {},
   "source": [
    "#### Income"
   ]
  },
  {
   "cell_type": "code",
   "execution_count": 18,
   "metadata": {},
   "outputs": [],
   "source": [
    "# call API\n",
    "for symbol in symbols:\n",
    "    # balance sheet endpoint\n",
    "    df = call_fmp_api(endpoint='income_yearly', ticker=symbol, periods=30)\n",
    "    if len(df) != 0:\n",
    "        df.to_csv('.././data/raw/income/{}.csv'.format(symbol),index = False)"
   ]
  },
  {
   "cell_type": "markdown",
   "metadata": {},
   "source": [
    "#### Cash Flow"
   ]
  },
  {
   "cell_type": "code",
   "execution_count": 19,
   "metadata": {},
   "outputs": [],
   "source": [
    "# call API\n",
    "for symbol in symbols:\n",
    "    # balance sheet endpoint\n",
    "    df = call_fmp_api(endpoint='cflow_yearly', ticker=symbol, periods=30)\n",
    "    if len(df) != 0:\n",
    "        df.to_csv('.././data/raw/cash_flow/{}.csv'.format(symbol),index = False)"
   ]
  },
  {
   "cell_type": "markdown",
   "metadata": {},
   "source": [
    "## Market Cap"
   ]
  },
  {
   "cell_type": "code",
   "execution_count": 20,
   "metadata": {},
   "outputs": [],
   "source": [
    "periods = 30*365\n",
    "# call API\n",
    "for symbol in symbols:\n",
    "    # balance sheet endpoint\n",
    "    df = call_fmp_api(endpoint='market_cap', ticker=symbol, periods=periods)\n",
    "    if len(df) != 0:\n",
    "        df.to_csv('.././data/raw/marketCaps/{}.csv'.format(symbol),index = False)"
   ]
  },
  {
   "cell_type": "markdown",
   "metadata": {},
   "source": [
    "## FRED Series"
   ]
  },
  {
   "cell_type": "markdown",
   "metadata": {},
   "source": [
    "Core PCE fro inflations"
   ]
  },
  {
   "cell_type": "code",
   "execution_count": 3,
   "metadata": {},
   "outputs": [],
   "source": [
    "core_pce = get_fred('PCEPILFE', 'corePCE')\n",
    "core_pce.to_csv('../data/raw/fred/corePCE.csv', index=False)"
   ]
  },
  {
   "cell_type": "markdown",
   "metadata": {},
   "source": [
    "Gross domestic product"
   ]
  },
  {
   "cell_type": "code",
   "execution_count": null,
   "metadata": {},
   "outputs": [],
   "source": [
    "gdp = get_fred('GDP')\n",
    "gdp.to_csv('../data/raw/fred/GDP.csv', index=False)"
   ]
  },
  {
   "cell_type": "markdown",
   "metadata": {},
   "source": [
    "10Y vs 3M T-bond interest rate"
   ]
  },
  {
   "cell_type": "code",
   "execution_count": 4,
   "metadata": {},
   "outputs": [],
   "source": [
    "series = get_fred('T10Y3M', 'interest10Y3M')\n",
    "series.to_csv('../data/raw/fred/interest10Y3M.csv', index=False)"
   ]
  },
  {
   "cell_type": "markdown",
   "metadata": {},
   "source": [
    "10-y Treasury & inflation indexed"
   ]
  },
  {
   "cell_type": "code",
   "execution_count": 5,
   "metadata": {},
   "outputs": [],
   "source": [
    "series = get_fred('DGS10', 'interest10Y')\n",
    "series.to_csv('../data/raw/fred/interest10Y.csv', index=False)\n",
    "series = get_fred('DFII10', 'interest10YIInflationAdjusted')\n",
    "series.to_csv('../data/raw/fred/interest10YIInflationAdjusted.csv', index=False)"
   ]
  },
  {
   "cell_type": "markdown",
   "metadata": {},
   "source": [
    "3 Month treasurey bill"
   ]
  },
  {
   "cell_type": "code",
   "execution_count": 6,
   "metadata": {},
   "outputs": [],
   "source": [
    "series = get_fred('DTB3','interest3M')\n",
    "series.to_csv('../data/raw/fred/interest3M.csv', index=False)"
   ]
  },
  {
   "cell_type": "markdown",
   "metadata": {},
   "source": [
    "20 year treasury maturity. To get corporate bonds ratio to this one"
   ]
  },
  {
   "cell_type": "code",
   "execution_count": 7,
   "metadata": {},
   "outputs": [],
   "source": [
    "series = get_fred('DGS20', 'interest20Y')\n",
    "series.to_csv('../data/raw/fred/interest20Y.csv', index=False)"
   ]
  },
  {
   "cell_type": "markdown",
   "metadata": {},
   "source": [
    "Corporate bonds 20Y"
   ]
  },
  {
   "cell_type": "code",
   "execution_count": 8,
   "metadata": {},
   "outputs": [],
   "source": [
    "series = get_fred('DAAA', 'moodysAaa20Y')\n",
    "series.to_csv('../data/raw/fred/moodysAaa20Y.csv', index=False)\n",
    "series = get_fred('DBAA', 'moodysBaa20Y')\n",
    "series.to_csv('../data/raw/fred/moodysBaa20Y.csv', index=False)"
   ]
  },
  {
   "cell_type": "markdown",
   "metadata": {},
   "source": [
    "Wilshire5000 index"
   ]
  },
  {
   "cell_type": "code",
   "execution_count": 9,
   "metadata": {},
   "outputs": [],
   "source": [
    "series = get_fred('WILL5000PRFC', 'wilshire5000')\n",
    "series.to_csv('../data/raw/fred/wilshire500.csv', index=False)"
   ]
  },
  {
   "cell_type": "code",
   "execution_count": 10,
   "metadata": {},
   "outputs": [],
   "source": [
    "series = get_fred('NASDAQCOM', 'nasdaq')\n",
    "series.to_csv('../data/raw/fred/nasdaq.csv', index=False)"
   ]
  },
  {
   "cell_type": "code",
   "execution_count": 11,
   "metadata": {},
   "outputs": [],
   "source": [
    "series = get_fred('VIXCLS', 'volatility')\n",
    "series.to_csv('../data/raw/fred/volatility.csv', index=False)"
   ]
  },
  {
   "cell_type": "code",
   "execution_count": 12,
   "metadata": {},
   "outputs": [],
   "source": [
    "series = get_fred('USSLIND', 'leadingIndex')\n",
    "series.to_csv('../data/raw/fred/leading.csv', index=False)"
   ]
  },
  {
   "cell_type": "code",
   "execution_count": 13,
   "metadata": {},
   "outputs": [],
   "source": [
    "series = get_fred('UMCSENT', 'consumerSentiment')\n",
    "series.to_csv('../data/raw/fred/consumersentiment.csv', index=False)"
   ]
  },
  {
   "cell_type": "code",
   "execution_count": 14,
   "metadata": {},
   "outputs": [],
   "source": [
    "series = get_fred('NFCI', 'chicagoFedFinancialConditions')\n",
    "series.to_csv('../data/raw/fred/chicagoFinancialConditions.csv', index=False)"
   ]
  },
  {
   "cell_type": "code",
   "execution_count": 15,
   "metadata": {},
   "outputs": [],
   "source": [
    "series = get_fred('STLFSI3', 'stlouisFredFinancialStress')\n",
    "series.to_csv('../data/raw/fred/stlouisFinancialStress.csv', index=False)"
   ]
  },
  {
   "cell_type": "code",
   "execution_count": 16,
   "metadata": {},
   "outputs": [],
   "source": [
    "series = get_fred('MORTGAGE30US', 'mortgage30Y')\n",
    "series.to_csv('../data/raw/fred/mortgage30Y.csv', index=False)"
   ]
  },
  {
   "cell_type": "code",
   "execution_count": 17,
   "metadata": {},
   "outputs": [],
   "source": [
    "series = get_fred('MSACSR', 'monthlySupplyHouses')\n",
    "series.to_csv('../data/raw/fred/monthlySupplyHouses.csv', index=False)"
   ]
  },
  {
   "cell_type": "code",
   "execution_count": 18,
   "metadata": {},
   "outputs": [],
   "source": [
    "series = get_fred('UNRATE', 'unemployment')\n",
    "series.to_csv('../data/raw/fred/unemployment.csv', index=False)"
   ]
  },
  {
   "cell_type": "code",
   "execution_count": 19,
   "metadata": {},
   "outputs": [],
   "source": [
    "series = get_fred('DCOILWTICO', 'wti')\n",
    "series.to_csv('../data/raw/fred/wti.csv', index=False)"
   ]
  },
  {
   "cell_type": "code",
   "execution_count": 20,
   "metadata": {},
   "outputs": [],
   "source": [
    "series = get_fred('DCOILBRENTEU', 'brent')\n",
    "series.to_csv('../data/raw/fred/brent.csv', index=False)"
   ]
  },
  {
   "cell_type": "code",
   "execution_count": 21,
   "metadata": {},
   "outputs": [],
   "source": [
    "series = get_fred('ISRATIO', 'inventorySalesRatio')\n",
    "series.to_csv('../data/raw/fred/inventorySalesRatio.csv', index=False)"
   ]
  },
  {
   "cell_type": "markdown",
   "metadata": {},
   "source": [
    "## SEC Submissions"
   ]
  },
  {
   "cell_type": "code",
   "execution_count": 2,
   "metadata": {},
   "outputs": [],
   "source": [
    "def bulk_download_submissions():\n",
    "    # submissions from SEC\n",
    "    companies = pd.read_csv('./data/raw/companies.csv').convert_dtypes()\n",
    "    symbol_dict = companies.drop_duplicates(subset = 'cik')\n",
    "    symbol_dict = symbol_dict.set_index('cik').symbol.to_dict()\n",
    "\n",
    "    for cik in companies.cik.unique().tolist():\n",
    "        time.sleep(1)\n",
    "        data_dict = get_submissions(cik)\n",
    "        df = pd.DataFrame(data_dict)\n",
    "        df['cik'] = cik\n",
    "        df['symbol'] = symbol_dict[cik]\n",
    "        df.to_csv('./data/submissions/{}.csv'.format(symbol_dict[cik]))\n",
    "\n",
    "def build_submissions_dataframe():\n",
    "    from pathlib import Path\n",
    "    files = Path('.././data/submissions').glob('*.csv')\n",
    "    df_list=[]\n",
    "    for file in files:\n",
    "        df = pd.read_csv(file,index_col = 0)\n",
    "        df_list.append(df)\n",
    "    submissions = pd.concat(df_list)\n",
    "    submissions.shape\n",
    "    cond1 = submissions.form.str.contains('10-Q')\n",
    "    cond2 = submissions.form.str.contains('10-K')\n",
    "    cond = cond1 | cond2\n",
    "    submissions = submissions.loc[cond, :].reset_index(drop=True)\n",
    "    return submissions\n",
    "\n",
    "# submissions.to_csv('./data/raw/submissions.csv', index=False)"
   ]
  }
 ],
 "metadata": {
  "interpreter": {
   "hash": "ae9c0c9e97f475e1ddc1c1eaf899a967268770442bc36a87f4da4ff116a10a48"
  },
  "kernelspec": {
   "display_name": "Python 3.8.10 ('venv_thebridge': venv)",
   "language": "python",
   "name": "python3"
  },
  "language_info": {
   "codemirror_mode": {
    "name": "ipython",
    "version": 3
   },
   "file_extension": ".py",
   "mimetype": "text/x-python",
   "name": "python",
   "nbconvert_exporter": "python",
   "pygments_lexer": "ipython3",
   "version": "3.8.10"
  },
  "orig_nbformat": 4
 },
 "nbformat": 4,
 "nbformat_minor": 2
}
