{
 "cells": [
  {
   "cell_type": "code",
   "execution_count": 1,
   "metadata": {},
   "outputs": [],
   "source": [
    "import pandas as pd\n",
    "import numpy as np"
   ]
  },
  {
   "cell_type": "markdown",
   "metadata": {},
   "source": [
    "## Get the years_active feature"
   ]
  },
  {
   "cell_type": "code",
   "execution_count": 8,
   "metadata": {},
   "outputs": [],
   "source": [
    "companies = pd.read_csv('.././data/feng/companies.csv').convert_dtypes()\n",
    "# Generate the years active feature\n",
    "companies['years_active'] = 2022 - companies.founded\n",
    "# send it to EDA\n",
    "companies.to_csv('.././data/EDA/companies.csv', index=False)"
   ]
  },
  {
   "cell_type": "markdown",
   "metadata": {},
   "source": [
    "## Gerate features from the financial statemens to send the EDA"
   ]
  },
  {
   "cell_type": "markdown",
   "metadata": {},
   "source": [
    "First Feature trim"
   ]
  },
  {
   "cell_type": "code",
   "execution_count": 37,
   "metadata": {},
   "outputs": [],
   "source": [
    "pd.options.display.max_columns = 80"
   ]
  },
  {
   "cell_type": "code",
   "execution_count": 60,
   "metadata": {},
   "outputs": [],
   "source": [
    "to_drop = [\n",
    "    'reportedCurrency',\n",
    "    'cik',\n",
    "    'acceptedDate',\n",
    "    'period',\n",
    "    'deferredIncomeTax',\n",
    "    'stockBasedCompensation',\n",
    "    'changeInWorkingCapital',\n",
    "    'accountsReceivables',\n",
    "    'inventory',\n",
    "    'accountsPayables',\n",
    "    'otherWorkingCapital',\n",
    "    'otherNonCashItems',\n",
    "    'acquisitionsNet',\n",
    "    'purchasesOfInvestments',\n",
    "    'salesMaturitiesOfInvestments',\n",
    "    'netCashProvidedByOperatingActivities',\n",
    "    'investmentsInPropertyPlantAndEquipment',\n",
    "    'otherInvestingActivites',\n",
    "    'netCashUsedForInvestingActivites',\n",
    "    'debtRepayment',\n",
    "    'commonStockIssued',\n",
    "    'commonStockRepurchased',\n",
    "    'otherFinancingActivites',\n",
    "    'otherFinancingActivites',\n",
    "    'netCashUsedProvidedByFinancingActivities',\n",
    "    'dividendsPaid',\n",
    "    'netChangeInCash',\n",
    "    'cashAtBeginningOfPeriod',\n",
    "    'cashAtEndOfPeriod',\n",
    "    'effectOfForexChangesOnCash',\n",
    "    'link',\n",
    "    'finalLink',\n",
    "    'grossProfit',\n",
    "    'operatingExpenses',\n",
    "    'operatingExpenses',\n",
    "    'costAndExpenses',\n",
    "    'depreciationAndAmortization',\n",
    "    'ebitda',\n",
    "    'operatingIncome',\n",
    "    'totalOtherIncomeExpensesNet',\n",
    "    'incomeBeforeTax',\n",
    "    'incomeTaxExpense',\n",
    "    'netIncome',\n",
    "    'eps',\n",
    "    'epsdiluted',\n",
    "    'weightedAverageShsOut',\n",
    "    'weightedAverageShsOutDil',\n",
    "    'totalCurrentAssets',\n",
    "    'propertyPlantEquipmentNet',\n",
    "    'goodwill',\n",
    "    'intangibleAssets',\n",
    "    'goodwillAndIntangibleAssets',\n",
    "    'longTermInvestments',\n",
    "    'taxAssets',\n",
    "    'otherNonCurrentAssets',\n",
    "    'totalNonCurrentAssets',\n",
    "    'otherAssets',\n",
    "    'otherNonCurrentAssets',\n",
    "    'otherNonCurrentAssets',\n",
    "    'taxPayables',\n",
    "    'deferredRevenue',\n",
    "    'otherCurrentLiabilities',\n",
    "    'deferredRevenueNonCurrent',\n",
    "    'deferredTaxLiabilitiesNonCurrent',\n",
    "    'otherNonCurrentLiabilities',\n",
    "    'otherLiabilities',\n",
    "    'capitalLeaseObligations',\n",
    "    'preferredStock',\n",
    "    'commonStock',\n",
    "    'accumulatedOtherComprehensiveIncomeLoss',\n",
    "    'othertotalStockholdersEquity',\n",
    "    'totalStockholdersEquity',\n",
    "    'totalLiabilitiesAndStockholdersEquity',\n",
    "    'minorityInterest',\n",
    "    'totalLiabilitiesAndStockholdersEquity',\n",
    "    ]"
   ]
  },
  {
   "cell_type": "code",
   "execution_count": 61,
   "metadata": {},
   "outputs": [],
   "source": [
    "statements = pd.read_csv('.././data/feng/statements_y.csv')\n",
    "statements = statements.drop(columns=to_drop)"
   ]
  },
  {
   "cell_type": "markdown",
   "metadata": {},
   "source": [
    "Adjust for inflation"
   ]
  },
  {
   "cell_type": "code",
   "execution_count": 68,
   "metadata": {},
   "outputs": [],
   "source": [
    "statements['date'] = pd.to_datetime(statements['date'])\n",
    "statements['month'] = statements['date'].dt.month"
   ]
  },
  {
   "cell_type": "code",
   "execution_count": 69,
   "metadata": {},
   "outputs": [],
   "source": [
    "inflation = pd.read_csv('.././data/feng/inflation.csv').convert_dtypes()\n",
    "statements = statements.merge(inflation.loc[:,['year','month', 'multiplier']], how='left', left_on=['calendarYear', 'month'], right_on = ['year', 'month'])"
   ]
  },
  {
   "cell_type": "code",
   "execution_count": 71,
   "metadata": {},
   "outputs": [],
   "source": [
    "statements.to_csv('.././data/EDA/statements.csv', index=False)"
   ]
  },
  {
   "cell_type": "markdown",
   "metadata": {},
   "source": [
    "IDEAS\n",
    "- Net income (income-statement)\n",
    "- EBIT/MarketCap ()\n",
    "- Enterprise Value: Íncludes debt in market cap\n",
    "- Free cash flow to Mcap\n",
    "- Revenue, NetIncome, growth_yoy for each quarter\n",
    "- ROIC: How much extra value a company creates for unit invested\n",
    "- WACC: Cost of capital\n",
    "- Cash/debt\n",
    "- mcap to revenue\n",
    "- Interest coverage\n",
    "- NRE"
   ]
  },
  {
   "cell_type": "markdown",
   "metadata": {},
   "source": [
    "### Get Inflation coefficient from corePCE"
   ]
  },
  {
   "cell_type": "code",
   "execution_count": null,
   "metadata": {},
   "outputs": [],
   "source": [
    "# read inflation csv\n",
    "inflation = pd.read_csv('.././data/fred/corePCE.csv').convert_dtypes()\n",
    "# get last date\n",
    "last_date = inflation.date.idxmax()\n",
    "# get the coefficient of that date\n",
    "today_inflation = inflation.loc[last_date, 'corePCE']\n",
    "# calculate multiplier\n",
    "inflation['multiplier'] = today_inflation/inflation.corePCE\n",
    "# export csv\n",
    "inflation.to_csv('.././data/feng/inflation.csv', index=False)"
   ]
  },
  {
   "cell_type": "markdown",
   "metadata": {},
   "source": [
    "### Get Real Market Caps"
   ]
  },
  {
   "cell_type": "code",
   "execution_count": 2,
   "metadata": {},
   "outputs": [],
   "source": [
    "mcaps = pd.read_csv('.././data/feng/mcaps.csv').convert_dtypes()\n",
    "inflation = pd.read_csv('.././data/feng/inflation.csv').convert_dtypes()"
   ]
  },
  {
   "cell_type": "code",
   "execution_count": 4,
   "metadata": {},
   "outputs": [],
   "source": [
    "mcaps['date'] = pd.to_datetime(mcaps['date'])\n",
    "mcaps['year'] = mcaps['date'].dt.year\n",
    "mcaps['month'] = mcaps['date'].dt.month"
   ]
  },
  {
   "cell_type": "code",
   "execution_count": 5,
   "metadata": {},
   "outputs": [],
   "source": [
    "joincols = ['year', 'month']\n",
    "rightcols = ['multiplier']\n",
    "mcaps = mcaps.merge(\n",
    "    inflation.loc[:,joincols + rightcols],\n",
    "    how='left',\n",
    "    on = joincols\n",
    ")"
   ]
  },
  {
   "cell_type": "code",
   "execution_count": 6,
   "metadata": {},
   "outputs": [],
   "source": [
    "mcaps['real_mcap'] = mcaps.marketCap * mcaps.multiplier"
   ]
  },
  {
   "cell_type": "markdown",
   "metadata": {},
   "source": [
    "smoooth the market caps with the 7-day moving average"
   ]
  },
  {
   "cell_type": "code",
   "execution_count": 7,
   "metadata": {},
   "outputs": [],
   "source": [
    "# sort by symbol and date\n",
    "mcaps = mcaps.sort_values(by=['symbol', 'date'])\n",
    "mcaps = mcaps.reset_index(drop = True)\n",
    "# get the 10-day sma10\n",
    "mcaps['sma10'] = mcaps.groupby('symbol')['real_mcap'].rolling(10).mean().reset_index(drop=True)\n",
    "mcaps['sma30'] = mcaps.groupby('symbol')['real_mcap'].rolling(30).mean().reset_index(drop=True)\n",
    "# fill nans with real values\n",
    "mcaps['sma10'] = mcaps['sma10'].fillna(mcaps['real_mcap'])\n",
    "mcaps['sma30'] = mcaps['sma30'].fillna(mcaps['real_mcap'])\n"
   ]
  },
  {
   "cell_type": "markdown",
   "metadata": {},
   "source": [
    "Send to EDA"
   ]
  },
  {
   "cell_type": "code",
   "execution_count": 8,
   "metadata": {},
   "outputs": [],
   "source": [
    "mcaps.to_csv('.././data/EDA/mcaps.csv', index=False)"
   ]
  },
  {
   "cell_type": "markdown",
   "metadata": {},
   "source": [
    "### Get realGDP from GDP"
   ]
  },
  {
   "cell_type": "code",
   "execution_count": 4,
   "metadata": {},
   "outputs": [],
   "source": [
    "gdp = pd.read_csv('.././data/fred/GDP.csv').convert_dtypes()\n",
    "inflation = pd.read_csv('.././data/feng/inflation.csv').convert_dtypes()"
   ]
  },
  {
   "cell_type": "code",
   "execution_count": 6,
   "metadata": {},
   "outputs": [],
   "source": [
    "joincols = ['year', 'month']\n",
    "rightcols = ['multiplier']\n",
    "gdp = gdp.merge(\n",
    "    inflation.loc[:,joincols + rightcols],\n",
    "    how='left',\n",
    "    on = joincols\n",
    ")"
   ]
  },
  {
   "cell_type": "code",
   "execution_count": 8,
   "metadata": {},
   "outputs": [],
   "source": [
    "gdp['realGDP'] = gdp.GDP * gdp.multiplier"
   ]
  },
  {
   "cell_type": "code",
   "execution_count": 10,
   "metadata": {},
   "outputs": [],
   "source": [
    "gdp.to_csv('.././data/EDA/GDP.csv', index=False)"
   ]
  }
 ],
 "metadata": {
  "interpreter": {
   "hash": "ae9c0c9e97f475e1ddc1c1eaf899a967268770442bc36a87f4da4ff116a10a48"
  },
  "kernelspec": {
   "display_name": "Python 3.8.10 ('venv_thebridge': venv)",
   "language": "python",
   "name": "python3"
  },
  "language_info": {
   "codemirror_mode": {
    "name": "ipython",
    "version": 3
   },
   "file_extension": ".py",
   "mimetype": "text/x-python",
   "name": "python",
   "nbconvert_exporter": "python",
   "pygments_lexer": "ipython3",
   "version": "3.8.10"
  },
  "orig_nbformat": 4
 },
 "nbformat": 4,
 "nbformat_minor": 2
}
